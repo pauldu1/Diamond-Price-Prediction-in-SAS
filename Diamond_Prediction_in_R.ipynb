{
 "cells": [
  {
   "cell_type": "markdown",
   "metadata": {},
   "source": [
    "# Diamond Price Prediction In R "
   ]
  },
  {
   "cell_type": "code",
   "execution_count": 92,
   "metadata": {},
   "outputs": [],
   "source": [
    "# Project Description:\n",
    "\n",
    "# Problems:\n",
    "\n",
    "# A jewelry company wants to put in a bid to purchase a large set of diamonds but the \n",
    "# problem is that the company does not know how much it should bid. The opportunity for\n",
    "# the company is to use the edge-cutting data science to predict the price for 3,000 \n",
    "# diamonds with a high confident level.\n",
    "\n",
    "# Goals:\n",
    "\n",
    "# The goal for data science team to use machine learning techniques to obtain the predicted \n",
    "# diamond price with the minimum errors from the actual price, which will involve the \n",
    "# thorough exploratory data analysis, data mining and predictive modeling analysis.\n",
    "\n",
    "# Criteria:\n",
    "\n",
    "# The criteria for the success are the benchmark that the total predicted dollars at $12.7 \n",
    "# million. \n",
    "\n",
    "# Assumptions:\n",
    "\n",
    "# Assumptions are the actual price of diamonds provided in the historical dataset \n",
    "# kept as currently value without inflation.  The suggested bid price 0.7 to multiply the \n",
    "# predicted price.\n",
    "\n",
    "# Tools: \n",
    "\n",
    "# The entire data science process of diamond price prediction is implemented in R through\n",
    "# Jupyter Notebook. \n"
   ]
  },
  {
   "cell_type": "markdown",
   "metadata": {},
   "source": [
    "# Import and Clean Data"
   ]
  },
  {
   "cell_type": "code",
   "execution_count": 2,
   "metadata": {},
   "outputs": [
    {
     "name": "stderr",
     "output_type": "stream",
     "text": [
      "-- \u001b[1mAttaching packages\u001b[22m --------------------------------------- tidyverse 1.2.1 --\n",
      "\u001b[32mv\u001b[39m \u001b[34mggplot2\u001b[39m 3.2.0     \u001b[32mv\u001b[39m \u001b[34mpurrr  \u001b[39m 0.3.2\n",
      "\u001b[32mv\u001b[39m \u001b[34mtibble \u001b[39m 2.1.3     \u001b[32mv\u001b[39m \u001b[34mdplyr  \u001b[39m 0.8.3\n",
      "\u001b[32mv\u001b[39m \u001b[34mtidyr  \u001b[39m 0.8.3     \u001b[32mv\u001b[39m \u001b[34mstringr\u001b[39m 1.4.0\n",
      "\u001b[32mv\u001b[39m \u001b[34mreadr  \u001b[39m 1.3.1     \u001b[32mv\u001b[39m \u001b[34mforcats\u001b[39m 0.4.0\n",
      "-- \u001b[1mConflicts\u001b[22m ------------------------------------------ tidyverse_conflicts() --\n",
      "\u001b[31mx\u001b[39m \u001b[34mtidyr\u001b[39m::\u001b[32mextract()\u001b[39m   masks \u001b[34mmagrittr\u001b[39m::extract()\n",
      "\u001b[31mx\u001b[39m \u001b[34mdplyr\u001b[39m::\u001b[32mfilter()\u001b[39m    masks \u001b[34mstats\u001b[39m::filter()\n",
      "\u001b[31mx\u001b[39m \u001b[34mdplyr\u001b[39m::\u001b[32mlag()\u001b[39m       masks \u001b[34mstats\u001b[39m::lag()\n",
      "\u001b[31mx\u001b[39m \u001b[34mpurrr\u001b[39m::\u001b[32mset_names()\u001b[39m masks \u001b[34mmagrittr\u001b[39m::set_names()\n",
      "Registered S3 method overwritten by 'GGally':\n",
      "  method from   \n",
      "  +.gg   ggplot2\n",
      "\n",
      "Attaching package: 'GGally'\n",
      "\n",
      "The following object is masked from 'package:dplyr':\n",
      "\n",
      "    nasa\n",
      "\n",
      "\n",
      "Attaching package: 'MASS'\n",
      "\n",
      "The following object is masked from 'package:dplyr':\n",
      "\n",
      "    select\n",
      "\n",
      "\n",
      "Attaching package: 'gridExtra'\n",
      "\n",
      "The following object is masked from 'package:dplyr':\n",
      "\n",
      "    combine\n",
      "\n",
      "Loading required package: lattice\n",
      "\n",
      "Attaching package: 'caret'\n",
      "\n",
      "The following object is masked from 'package:purrr':\n",
      "\n",
      "    lift\n",
      "\n",
      "Loading required package: grid\n"
     ]
    }
   ],
   "source": [
    "# Import packages\n",
    "library(magrittr) \n",
    "library(tidyverse)\n",
    "library(ggplot2)\n",
    "library(GGally) \n",
    "library(MASS)\n",
    "library(gridExtra)\n",
    "library(caret) \n",
    "library(vcd) "
   ]
  },
  {
   "cell_type": "code",
   "execution_count": 3,
   "metadata": {},
   "outputs": [
    {
     "data": {
      "text/html": [
       "<ol class=list-inline>\n",
       "\t<li>53940</li>\n",
       "\t<li>11</li>\n",
       "</ol>\n"
      ],
      "text/latex": [
       "\\begin{enumerate*}\n",
       "\\item 53940\n",
       "\\item 11\n",
       "\\end{enumerate*}\n"
      ],
      "text/markdown": [
       "1. 53940\n",
       "2. 11\n",
       "\n",
       "\n"
      ],
      "text/plain": [
       "[1] 53940    11"
      ]
     },
     "metadata": {},
     "output_type": "display_data"
    },
    {
     "data": {
      "text/html": [
       "<ol class=list-inline>\n",
       "\t<li>3000</li>\n",
       "\t<li>7</li>\n",
       "</ol>\n"
      ],
      "text/latex": [
       "\\begin{enumerate*}\n",
       "\\item 3000\n",
       "\\item 7\n",
       "\\end{enumerate*}\n"
      ],
      "text/markdown": [
       "1. 3000\n",
       "2. 7\n",
       "\n",
       "\n"
      ],
      "text/plain": [
       "[1] 3000    7"
      ]
     },
     "metadata": {},
     "output_type": "display_data"
    }
   ],
   "source": [
    "# Import the data historical diamond dataset and new diamond dataset\n",
    "raw<-read.csv(\"D:/DSPS/DIAMONDS/DATA/TRAINING/diamonds.csv\")\n",
    "new <- read.csv(\"D:/DSPS/DIAMONDS/DATA/TEST/new_diamonds.csv\")\n",
    "\n",
    "# Check the size\n",
    "dim(raw)\n",
    "dim(new)"
   ]
  },
  {
   "cell_type": "code",
   "execution_count": 4,
   "metadata": {},
   "outputs": [
    {
     "name": "stdout",
     "output_type": "stream",
     "text": [
      "'data.frame':\t53940 obs. of  11 variables:\n",
      " $ X      : int  1 2 3 4 5 6 7 8 9 10 ...\n",
      " $ carat  : num  0.23 0.21 0.23 0.29 0.31 0.24 0.24 0.26 0.22 0.23 ...\n",
      " $ cut    : Factor w/ 5 levels \"Fair\",\"Good\",..: 3 4 2 4 2 5 5 5 1 5 ...\n",
      " $ color  : Factor w/ 7 levels \"D\",\"E\",\"F\",\"G\",..: 2 2 2 6 7 7 6 5 2 5 ...\n",
      " $ clarity: Factor w/ 8 levels \"I1\",\"IF\",\"SI1\",..: 4 3 5 6 4 8 7 3 6 5 ...\n",
      " $ depth  : num  61.5 59.8 56.9 62.4 63.3 62.8 62.3 61.9 65.1 59.4 ...\n",
      " $ table  : num  55 61 65 58 58 57 57 55 61 61 ...\n",
      " $ price  : int  326 326 327 334 335 336 336 337 337 338 ...\n",
      " $ x      : num  3.95 3.89 4.05 4.2 4.34 3.94 3.95 4.07 3.87 4 ...\n",
      " $ y      : num  3.98 3.84 4.07 4.23 4.35 3.96 3.98 4.11 3.78 4.05 ...\n",
      " $ z      : num  2.43 2.31 2.31 2.63 2.75 2.48 2.47 2.53 2.49 2.39 ...\n"
     ]
    }
   ],
   "source": [
    "# Check the structure\n",
    "str(raw)"
   ]
  },
  {
   "cell_type": "code",
   "execution_count": 5,
   "metadata": {},
   "outputs": [
    {
     "data": {
      "text/html": [
       "<table>\n",
       "<caption>A data.frame: 5 × 11</caption>\n",
       "<thead>\n",
       "\t<tr><th scope=col>X</th><th scope=col>carat</th><th scope=col>cut</th><th scope=col>color</th><th scope=col>clarity</th><th scope=col>depth</th><th scope=col>table</th><th scope=col>price</th><th scope=col>x</th><th scope=col>y</th><th scope=col>z</th></tr>\n",
       "\t<tr><th scope=col>&lt;int&gt;</th><th scope=col>&lt;dbl&gt;</th><th scope=col>&lt;fct&gt;</th><th scope=col>&lt;fct&gt;</th><th scope=col>&lt;fct&gt;</th><th scope=col>&lt;dbl&gt;</th><th scope=col>&lt;dbl&gt;</th><th scope=col>&lt;int&gt;</th><th scope=col>&lt;dbl&gt;</th><th scope=col>&lt;dbl&gt;</th><th scope=col>&lt;dbl&gt;</th></tr>\n",
       "</thead>\n",
       "<tbody>\n",
       "\t<tr><td>1</td><td>0.23</td><td>Ideal  </td><td>E</td><td>SI2</td><td>61.5</td><td>55</td><td>326</td><td>3.95</td><td>3.98</td><td>2.43</td></tr>\n",
       "\t<tr><td>2</td><td>0.21</td><td>Premium</td><td>E</td><td>SI1</td><td>59.8</td><td>61</td><td>326</td><td>3.89</td><td>3.84</td><td>2.31</td></tr>\n",
       "\t<tr><td>3</td><td>0.23</td><td>Good   </td><td>E</td><td>VS1</td><td>56.9</td><td>65</td><td>327</td><td>4.05</td><td>4.07</td><td>2.31</td></tr>\n",
       "\t<tr><td>4</td><td>0.29</td><td>Premium</td><td>I</td><td>VS2</td><td>62.4</td><td>58</td><td>334</td><td>4.20</td><td>4.23</td><td>2.63</td></tr>\n",
       "\t<tr><td>5</td><td>0.31</td><td>Good   </td><td>J</td><td>SI2</td><td>63.3</td><td>58</td><td>335</td><td>4.34</td><td>4.35</td><td>2.75</td></tr>\n",
       "</tbody>\n",
       "</table>\n"
      ],
      "text/latex": [
       "A data.frame: 5 × 11\n",
       "\\begin{tabular}{r|lllllllllll}\n",
       " X & carat & cut & color & clarity & depth & table & price & x & y & z\\\\\n",
       " <int> & <dbl> & <fct> & <fct> & <fct> & <dbl> & <dbl> & <int> & <dbl> & <dbl> & <dbl>\\\\\n",
       "\\hline\n",
       "\t 1 & 0.23 & Ideal   & E & SI2 & 61.5 & 55 & 326 & 3.95 & 3.98 & 2.43\\\\\n",
       "\t 2 & 0.21 & Premium & E & SI1 & 59.8 & 61 & 326 & 3.89 & 3.84 & 2.31\\\\\n",
       "\t 3 & 0.23 & Good    & E & VS1 & 56.9 & 65 & 327 & 4.05 & 4.07 & 2.31\\\\\n",
       "\t 4 & 0.29 & Premium & I & VS2 & 62.4 & 58 & 334 & 4.20 & 4.23 & 2.63\\\\\n",
       "\t 5 & 0.31 & Good    & J & SI2 & 63.3 & 58 & 335 & 4.34 & 4.35 & 2.75\\\\\n",
       "\\end{tabular}\n"
      ],
      "text/markdown": [
       "\n",
       "A data.frame: 5 × 11\n",
       "\n",
       "| X &lt;int&gt; | carat &lt;dbl&gt; | cut &lt;fct&gt; | color &lt;fct&gt; | clarity &lt;fct&gt; | depth &lt;dbl&gt; | table &lt;dbl&gt; | price &lt;int&gt; | x &lt;dbl&gt; | y &lt;dbl&gt; | z &lt;dbl&gt; |\n",
       "|---|---|---|---|---|---|---|---|---|---|---|\n",
       "| 1 | 0.23 | Ideal   | E | SI2 | 61.5 | 55 | 326 | 3.95 | 3.98 | 2.43 |\n",
       "| 2 | 0.21 | Premium | E | SI1 | 59.8 | 61 | 326 | 3.89 | 3.84 | 2.31 |\n",
       "| 3 | 0.23 | Good    | E | VS1 | 56.9 | 65 | 327 | 4.05 | 4.07 | 2.31 |\n",
       "| 4 | 0.29 | Premium | I | VS2 | 62.4 | 58 | 334 | 4.20 | 4.23 | 2.63 |\n",
       "| 5 | 0.31 | Good    | J | SI2 | 63.3 | 58 | 335 | 4.34 | 4.35 | 2.75 |\n",
       "\n"
      ],
      "text/plain": [
       "  X carat cut     color clarity depth table price x    y    z   \n",
       "1 1 0.23  Ideal   E     SI2     61.5  55    326   3.95 3.98 2.43\n",
       "2 2 0.21  Premium E     SI1     59.8  61    326   3.89 3.84 2.31\n",
       "3 3 0.23  Good    E     VS1     56.9  65    327   4.05 4.07 2.31\n",
       "4 4 0.29  Premium I     VS2     62.4  58    334   4.20 4.23 2.63\n",
       "5 5 0.31  Good    J     SI2     63.3  58    335   4.34 4.35 2.75"
      ]
     },
     "metadata": {},
     "output_type": "display_data"
    }
   ],
   "source": [
    "# Look the first 5 rows\n",
    "head(raw, 5)"
   ]
  },
  {
   "cell_type": "code",
   "execution_count": 6,
   "metadata": {},
   "outputs": [],
   "source": [
    "# Drop first column X\n",
    "df2 <- subset(raw, select=-c(X))"
   ]
  },
  {
   "cell_type": "code",
   "execution_count": 7,
   "metadata": {},
   "outputs": [],
   "source": [
    "# Check and remove duplicates --dplyr\n",
    "df3 <- distinct(df2)"
   ]
  },
  {
   "cell_type": "code",
   "execution_count": 8,
   "metadata": {},
   "outputs": [],
   "source": [
    "# Drop invalid observations\n",
    "clean <- subset(df3, x!=0 & y!=0 & z!=0)"
   ]
  },
  {
   "cell_type": "code",
   "execution_count": 9,
   "metadata": {},
   "outputs": [
    {
     "data": {
      "text/html": [
       "<ol class=list-inline>\n",
       "\t<li>53775</li>\n",
       "\t<li>10</li>\n",
       "</ol>\n"
      ],
      "text/latex": [
       "\\begin{enumerate*}\n",
       "\\item 53775\n",
       "\\item 10\n",
       "\\end{enumerate*}\n"
      ],
      "text/markdown": [
       "1. 53775\n",
       "2. 10\n",
       "\n",
       "\n"
      ],
      "text/plain": [
       "[1] 53775    10"
      ]
     },
     "metadata": {},
     "output_type": "display_data"
    }
   ],
   "source": [
    "# Get the size of clean version data\n",
    "dim(clean)"
   ]
  },
  {
   "cell_type": "markdown",
   "metadata": {},
   "source": [
    "# EDA"
   ]
  },
  {
   "cell_type": "markdown",
   "metadata": {},
   "source": [
    "## Descriptive Statistics"
   ]
  },
  {
   "cell_type": "code",
   "execution_count": 10,
   "metadata": {},
   "outputs": [
    {
     "data": {
      "text/plain": [
       "     carat               cut        color        clarity          depth      \n",
       " Min.   :0.2000   Fair     : 1597   D: 6754   SI1    :13030   Min.   :43.00  \n",
       " 1st Qu.:0.4000   Good     : 4888   E: 9776   VS2    :12225   1st Qu.:61.00  \n",
       " Median :0.7000   Ideal    :21485   F: 9517   SI2    : 9142   Median :61.80  \n",
       " Mean   :0.7975   Premium  :13737   G:11254   VS1    : 8155   Mean   :61.75  \n",
       " 3rd Qu.:1.0400   Very Good:12068   H: 8266   VVS2   : 5056   3rd Qu.:62.50  \n",
       " Max.   :5.0100                     I: 5406   VVS1   : 3646   Max.   :79.00  \n",
       "                                    J: 2802   (Other): 2521                  \n",
       "     table           price             x                y         \n",
       " Min.   :43.00   Min.   :  326   Min.   : 3.730   Min.   : 3.680  \n",
       " 1st Qu.:56.00   1st Qu.:  951   1st Qu.: 4.710   1st Qu.: 4.720  \n",
       " Median :57.00   Median : 2401   Median : 5.700   Median : 5.710  \n",
       " Mean   :57.46   Mean   : 3931   Mean   : 5.732   Mean   : 5.735  \n",
       " 3rd Qu.:59.00   3rd Qu.: 5324   3rd Qu.: 6.540   3rd Qu.: 6.540  \n",
       " Max.   :95.00   Max.   :18823   Max.   :10.740   Max.   :58.900  \n",
       "                                                                  \n",
       "       z        \n",
       " Min.   : 1.07  \n",
       " 1st Qu.: 2.91  \n",
       " Median : 3.53  \n",
       " Mean   : 3.54  \n",
       " 3rd Qu.: 4.03  \n",
       " Max.   :31.80  \n",
       "                "
      ]
     },
     "metadata": {},
     "output_type": "display_data"
    }
   ],
   "source": [
    "summary(clean)"
   ]
  },
  {
   "cell_type": "markdown",
   "metadata": {},
   "source": [
    "## Distribution - histogram & density for individual numeric variables"
   ]
  },
  {
   "cell_type": "code",
   "execution_count": 12,
   "metadata": {},
   "outputs": [
    {
     "name": "stderr",
     "output_type": "stream",
     "text": [
      "`stat_bin()` using `bins = 30`. Pick better value with `binwidth`.\n",
      "`stat_bin()` using `bins = 30`. Pick better value with `binwidth`.\n",
      "`stat_bin()` using `bins = 30`. Pick better value with `binwidth`.\n",
      "`stat_bin()` using `bins = 30`. Pick better value with `binwidth`.\n",
      "`stat_bin()` using `bins = 30`. Pick better value with `binwidth`.\n",
      "`stat_bin()` using `bins = 30`. Pick better value with `binwidth`.\n",
      "`stat_bin()` using `bins = 30`. Pick better value with `binwidth`.\n"
     ]
    },
    {
     "data": {
      "image/png": "[encoded data removed]",
      "text/plain": [
       "plot without title"
      ]
     },
     "metadata": {},
     "output_type": "display_data"
    }
   ],
   "source": [
    "# price\n",
    "price_hist <- ggplot(aes(price), data=clean) +\n",
    "  geom_histogram(aes(y=..density..),\n",
    "                 color=\"green\",\n",
    "                 fill=\"darkgreen\") +\n",
    "  ggtitle('price')+\n",
    "  stat_function(fun = dnorm, \n",
    "                args = list(mean = mean(clean$price), \n",
    "                            sd = sd(clean$price)),\n",
    "                color=\"darkred\", size=1) +\n",
    "  theme(plot.title = element_text(hjust = 0.5))\n",
    "\n",
    "# carat\n",
    "carat_hist <- ggplot(aes(carat), data=clean) +\n",
    "  geom_histogram(aes(y=..density..),\n",
    "                 color=\"green\",\n",
    "                 fill=\"darkgreen\") +\n",
    "  ggtitle('carat')+\n",
    "  stat_function(fun = dnorm, \n",
    "                args = list(mean = mean(clean$carat), \n",
    "                            sd = sd(clean$carat)),\n",
    "                color=\"darkred\", size=1) +\n",
    "  theme(plot.title = element_text(hjust = 0.5))\n",
    "\n",
    "# depth\n",
    "depth_hist <- ggplot(aes(depth), data=clean) +\n",
    "  geom_histogram(aes(y=..density..),\n",
    "                 color=\"green\",\n",
    "                 fill=\"darkgreen\") +\n",
    "  ggtitle('depth')+\n",
    "  stat_function(fun = dnorm, \n",
    "                args = list(mean = mean(clean$carat), \n",
    "                            sd = sd(clean$carat)),\n",
    "                color=\"darkred\", size=1) +\n",
    "  theme(plot.title = element_text(hjust = 0.5))\n",
    "\n",
    "# table\n",
    "table_hist <- ggplot(aes(table), data=clean) +\n",
    "  geom_histogram(aes(y=..density..),\n",
    "                 color=\"green\",\n",
    "                 fill=\"darkgreen\") +\n",
    "  ggtitle('table')+\n",
    "  stat_function(fun = dnorm, \n",
    "                args = list(mean = mean(clean$carat), \n",
    "                            sd = sd(clean$carat)),\n",
    "                color=\"darkred\", size=1) +\n",
    "  theme(plot.title = element_text(hjust = 0.5))\n",
    "\n",
    "# x\n",
    "x_hist <- ggplot(aes(x), data=clean) +\n",
    "  geom_histogram(aes(y=..density..),\n",
    "                 color=\"green\",\n",
    "                 fill=\"darkgreen\") +\n",
    "  ggtitle('x')+\n",
    "  stat_function(fun = dnorm, \n",
    "                args = list(mean = mean(clean$carat), \n",
    "                            sd = sd(clean$carat)),\n",
    "                color=\"darkred\", size=1) +\n",
    "  theme(plot.title = element_text(hjust = 0.5))\n",
    "\n",
    "# y\n",
    "y_hist <- ggplot(aes(y), data=clean) +\n",
    "  geom_histogram(aes(y=..density..),\n",
    "                 color=\"green\",\n",
    "                 fill=\"darkgreen\") +\n",
    "  ggtitle('y')+\n",
    "  stat_function(fun = dnorm, \n",
    "                args = list(mean = mean(clean$carat), \n",
    "                            sd = sd(clean$carat)),\n",
    "                color=\"darkred\", size=1) +\n",
    "  theme(plot.title = element_text(hjust = 0.5))\n",
    "\n",
    "# z\n",
    "z_hist <- ggplot(aes(z), data=clean) +\n",
    "  geom_histogram(aes(y=..density..),\n",
    "                 color=\"green\",\n",
    "                 fill=\"darkgreen\") +\n",
    "  ggtitle('z')+\n",
    "  stat_function(fun = dnorm, \n",
    "                args = list(mean = mean(clean$carat), \n",
    "                            sd = sd(clean$carat)),\n",
    "                color=\"darkred\", size=1) +\n",
    "  theme(plot.title = element_text(hjust = 0.5))\n",
    "\n",
    "# plot all histograms in one page\n",
    "grid.arrange(price_hist, carat_hist, depth_hist,\n",
    "             table_hist, x_hist, y_hist, z_hist,\n",
    "             ncol=2, nrow=4)  "
   ]
  },
  {
   "cell_type": "markdown",
   "metadata": {},
   "source": [
    "## QQ Plots - check normality of individaul numeric variables"
   ]
  },
  {
   "cell_type": "code",
   "execution_count": 13,
   "metadata": {},
   "outputs": [
    {
     "data": {
      "image/png": "[encoded data removed]",
      "text/plain": [
       "plot without title"
      ]
     },
     "metadata": {},
     "output_type": "display_data"
    }
   ],
   "source": [
    "# price\n",
    "price_qq <- ggplot(clean, aes(sample = price))+ \n",
    "  stat_qq(col=\"green\", size=2) + \n",
    "  stat_qq_line(col=\"blue\", lwd=1) +\n",
    "  ggtitle(\"price\") +\n",
    "  theme(plot.title = element_text(hjust = 0.5))\n",
    "\n",
    "# carat\n",
    "carat_qq <- ggplot(clean, aes(sample = carat))+ \n",
    "  stat_qq(col=\"green\", size=2) + \n",
    "  stat_qq_line(col=\"blue\", lwd=1) +\n",
    "  ggtitle(\"carat\") +\n",
    "  theme(plot.title = element_text(hjust = 0.5))\n",
    "\n",
    "# depth\n",
    "depth_qq <- ggplot(clean, aes(sample = depth))+ \n",
    "  stat_qq(col=\"green\", size=2) + \n",
    "  stat_qq_line(col=\"blue\", lwd=1) +\n",
    "  ggtitle(\"depth\") +\n",
    "  theme(plot.title = element_text(hjust = 0.5))\n",
    "\n",
    "# table\n",
    "table_qq <- ggplot(clean, aes(sample = table))+ \n",
    "  stat_qq(col=\"green\", size=2) + \n",
    "  stat_qq_line(col=\"blue\", lwd=1) +\n",
    "  ggtitle(\"table\") +\n",
    "  theme(plot.title = element_text(hjust = 0.5))\n",
    "\n",
    "# x\n",
    "x_qq <- ggplot(clean, aes(sample = x))+ \n",
    "  stat_qq(col=\"green\", size=2) + \n",
    "  stat_qq_line(col=\"blue\", lwd=1) +\n",
    "  ggtitle(\"x\") +\n",
    "  theme(plot.title = element_text(hjust = 0.5))\n",
    "\n",
    "# y\n",
    "y_qq <- ggplot(clean, aes(sample = y))+ \n",
    "  stat_qq(col=\"green\", size=2) + \n",
    "  stat_qq_line(col=\"blue\", lwd=1) +\n",
    "  ggtitle(\"y\") +\n",
    "  theme(plot.title = element_text(hjust = 0.5))\n",
    "\n",
    "# z\n",
    "z_qq <- ggplot(clean, aes(sample = z))+ \n",
    "  stat_qq(col=\"green\", size=2) + \n",
    "  stat_qq_line(col=\"blue\", lwd=1) +\n",
    "  ggtitle(\"z\") +\n",
    "  theme(plot.title = element_text(hjust = 0.5))\n",
    "\n",
    "# plot QQ plot in one page\n",
    "grid.arrange(price_qq, carat_qq, depth_qq,\n",
    "             table_qq, x_qq, y_qq, z_qq,\n",
    "             ncol=2, nrow=4)  "
   ]
  },
  {
   "cell_type": "markdown",
   "metadata": {},
   "source": [
    "## Pairwise scatter plots between price and other numeric variables"
   ]
  },
  {
   "cell_type": "code",
   "execution_count": 14,
   "metadata": {},
   "outputs": [
    {
     "name": "stderr",
     "output_type": "stream",
     "text": [
      "Warning message:\n",
      "\"Removed 942 rows containing non-finite values (stat_smooth).\"Warning message:\n",
      "\"Removed 942 rows containing missing values (geom_point).\"Warning message:\n",
      "\"Removed 4 rows containing missing values (geom_smooth).\"Warning message:\n",
      "\"Removed 1039 rows containing non-finite values (stat_smooth).\"Warning message:\n",
      "\"Removed 1039 rows containing missing values (geom_point).\"Warning message:\n",
      "\"Removed 865 rows containing non-finite values (stat_smooth).\"Warning message:\n",
      "\"Removed 865 rows containing missing values (geom_point).\"Warning message:\n",
      "\"Removed 933 rows containing non-finite values (stat_smooth).\"Warning message:\n",
      "\"Removed 933 rows containing missing values (geom_point).\"Warning message:\n",
      "\"Removed 13 rows containing missing values (geom_smooth).\"Warning message:\n",
      "\"Removed 927 rows containing non-finite values (stat_smooth).\"Warning message:\n",
      "\"Removed 927 rows containing missing values (geom_point).\"Warning message:\n",
      "\"Removed 14 rows containing missing values (geom_smooth).\"Warning message:\n",
      "\"Removed 926 rows containing non-finite values (stat_smooth).\"Warning message:\n",
      "\"Removed 926 rows containing missing values (geom_point).\"Warning message:\n",
      "\"Removed 33 rows containing missing values (geom_smooth).\""
     ]
    },
    {
     "data": {
      "image/png": "[encoded data removed]",
      "text/plain": [
       "plot without title"
      ]
     },
     "metadata": {},
     "output_type": "display_data"
    }
   ],
   "source": [
    "# price vs carat\n",
    "price_carat <- ggplot(aes(x=carat, y=price), data=clean) +\n",
    "  geom_point(fill=I(\"#f77a20\"), color=I(\"black\"), shape=21) +\n",
    "  stat_smooth(method=\"lm\") +\n",
    "  scale_x_continuous(lim = c(0, quantile(clean$carat, 0.99)) ) +\n",
    "  scale_y_continuous(lim = c(0, quantile(clean$price, 0.99)) ) +\n",
    "  ggtitle(\"price vs. carat\") +\n",
    "  theme(plot.title = element_text(hjust = 0.5))\n",
    "\n",
    "# price vs depth\n",
    "price_depth <- ggplot(aes(x=depth, y=price), data=clean) +\n",
    "  geom_point(fill=I(\"#f77a20\"), color=I(\"black\"), shape=21) +\n",
    "  stat_smooth(method=\"lm\") +\n",
    "  scale_x_continuous(lim = c(0, quantile(clean$depth, 0.99)) ) +\n",
    "  scale_y_continuous(lim = c(0, quantile(clean$price, 0.99)) ) +\n",
    "  ggtitle(\"price vs. depth\") +\n",
    "  theme(plot.title = element_text(hjust = 0.5))\n",
    "\n",
    "# price vs table\n",
    "price_table <- ggplot(aes(x=table, y=price), data=clean) +\n",
    "  geom_point(fill=I(\"#f77a20\"), color=I(\"black\"), shape=21) +\n",
    "  stat_smooth(method=\"lm\") +\n",
    "  scale_x_continuous(lim = c(0, quantile(clean$table, 0.99)) ) +\n",
    "  scale_y_continuous(lim = c(0, quantile(clean$price, 0.99)) ) +\n",
    "  ggtitle(\"price vs. table\") +\n",
    "  theme(plot.title = element_text(hjust = 0.5))\n",
    "\n",
    "# price vs x\n",
    "price_x <- ggplot(aes(x=x, y=price), data=clean) +\n",
    "  geom_point(fill=I(\"#f77a20\"), color=I(\"black\"), shape=21) +\n",
    "  stat_smooth(method=\"lm\") +\n",
    "  scale_x_continuous(lim = c(0, quantile(clean$x, 0.99)) ) +\n",
    "  scale_y_continuous(lim = c(0, quantile(clean$price, 0.99)) ) +\n",
    "  ggtitle(\"price vs. x\") +\n",
    "  theme(plot.title = element_text(hjust = 0.5))\n",
    "\n",
    "# price vs y\n",
    "price_y <- ggplot(aes(x=y, y=price), data=clean) +\n",
    "  geom_point(fill=I(\"#f77a20\"), color=I(\"black\"), shape=21) +\n",
    "  stat_smooth(method=\"lm\") +\n",
    "  scale_x_continuous(lim = c(0, quantile(clean$y, 0.99)) ) +\n",
    "  scale_y_continuous(lim = c(0, quantile(clean$price, 0.99)) ) +\n",
    "  ggtitle(\"price vs. y\") +\n",
    "  theme(plot.title = element_text(hjust = 0.5))\n",
    "\n",
    "# price vs z\n",
    "price_z <- ggplot(aes(x=z, y=price), data=clean) +\n",
    "  geom_point(fill=I(\"#f77a20\"), color=I(\"black\"), shape=21) +\n",
    "  stat_smooth(method=\"lm\") +\n",
    "  scale_x_continuous(lim = c(0, quantile(clean$z, 0.99)) ) +\n",
    "  scale_y_continuous(lim = c(0, quantile(clean$price, 0.99)) ) +\n",
    "  ggtitle(\"price vs. z\") +\n",
    "  theme(plot.title = element_text(hjust = 0.5))\n",
    "        \n",
    "# plot pairwise scatter plot in one page\n",
    "grid.arrange(arrangeGrob(price_carat, \n",
    "             price_depth, price_table, \n",
    "             ncol=2, nrow=2, \n",
    "             layout_matrix=rbind(c(1,1), c(2,3))),\n",
    "             arrangeGrob(price_x, price_y, price_z, \n",
    "                         ncol=1, nrow=3), ncol=2)"
   ]
  },
  {
   "cell_type": "markdown",
   "metadata": {},
   "source": [
    "## Correlations beween pairs of numerica variables"
   ]
  },
  {
   "cell_type": "code",
   "execution_count": 15,
   "metadata": {},
   "outputs": [
    {
     "data": {
      "image/png": "[encoded data removed]",
      "text/plain": [
       "plot without title"
      ]
     },
     "metadata": {},
     "output_type": "display_data"
    }
   ],
   "source": [
    "# A correlation matrix\n",
    "ggpairs(clean[, c(\"price\", \"carat\", \"depth\", \"table\", \"x\", \"y\", \"z\")], \n",
    "        upper =list(continuous=\"cor\"), title = \"Correlations\")+\n",
    "  theme(plot.title = element_text(hjust = 0.5))"
   ]
  },
  {
   "cell_type": "markdown",
   "metadata": {},
   "source": [
    "## Box Plots between price and categorical variables"
   ]
  },
  {
   "cell_type": "code",
   "execution_count": 16,
   "metadata": {},
   "outputs": [
    {
     "data": {
      "image/png": "[encoded data removed]",
      "text/plain": [
       "Plot with title \"Price by Clarity\""
      ]
     },
     "metadata": {},
     "output_type": "display_data"
    }
   ],
   "source": [
    "# price vs clarity\n",
    "boxplot(price~clarity, data=clean, \n",
    "        col=\"gold\",\n",
    "        main=\"Price by Clarity\", xlab=\"Clarity\")"
   ]
  },
  {
   "cell_type": "code",
   "execution_count": 17,
   "metadata": {},
   "outputs": [
    {
     "data": {
      "image/png": "[encoded data removed]",
      "text/plain": [
       "Plot with title \"Price by Cut\""
      ]
     },
     "metadata": {},
     "output_type": "display_data"
    }
   ],
   "source": [
    "# price vs cut\n",
    "boxplot(price~cut, data=clean, \n",
    "        col=\"blue\",\n",
    "        main=\"Price by Cut\", xlab=\"Cut\")"
   ]
  },
  {
   "cell_type": "code",
   "execution_count": 18,
   "metadata": {},
   "outputs": [
    {
     "data": {
      "image/png": "[encoded data removed]",
      "text/plain": [
       "Plot with title \"Price by Color\""
      ]
     },
     "metadata": {},
     "output_type": "display_data"
    }
   ],
   "source": [
    "# price vs color\n",
    "boxplot(price~color, data=clean, \n",
    "        col=(\"green\"),\n",
    "        main=\"Price by Color\", xlab=\"Color\")"
   ]
  },
  {
   "cell_type": "code",
   "execution_count": 20,
   "metadata": {},
   "outputs": [
    {
     "data": {
      "image/png": "[encoded data removed]",
      "text/plain": [
       "Plot with title \"Price by Carat\""
      ]
     },
     "metadata": {},
     "output_type": "display_data"
    }
   ],
   "source": [
    "# Deal with carat as categorical\n",
    "boxplot(price~carat, data=clean, outline=FALSE,\n",
    "        col=(\"red\"),\n",
    "        main=\"Price by Carat\", xlab=\"Carat\")"
   ]
  },
  {
   "cell_type": "markdown",
   "metadata": {},
   "source": [
    "## Associations between categorical variables"
   ]
  },
  {
   "cell_type": "code",
   "execution_count": 22,
   "metadata": {},
   "outputs": [
    {
     "name": "stdout",
     "output_type": "stream",
     "text": [
      "[1] \"clarity vs cut:\"\n"
     ]
    },
    {
     "data": {
      "text/plain": [
       "                    X^2 df P(> X^2)\n",
       "Likelihood Ratio 3430.0 28        0\n",
       "Pearson          4373.4 28        0\n",
       "\n",
       "Phi-Coefficient   : NA \n",
       "Contingency Coeff.: 0.274 \n",
       "Cramer's V        : 0.143 "
      ]
     },
     "metadata": {},
     "output_type": "display_data"
    },
    {
     "name": "stdout",
     "output_type": "stream",
     "text": [
      "[1] \"clarity vs color:\"\n"
     ]
    },
    {
     "data": {
      "text/plain": [
       "                    X^2 df P(> X^2)\n",
       "Likelihood Ratio 2115.4 42        0\n",
       "Pearson          2040.1 42        0\n",
       "\n",
       "Phi-Coefficient   : NA \n",
       "Contingency Coeff.: 0.191 \n",
       "Cramer's V        : 0.08 "
      ]
     },
     "metadata": {},
     "output_type": "display_data"
    },
    {
     "name": "stdout",
     "output_type": "stream",
     "text": [
      "[1] \"cut vs color:\"\n"
     ]
    },
    {
     "data": {
      "text/plain": [
       "                    X^2 df P(> X^2)\n",
       "Likelihood Ratio 308.55 24        0\n",
       "Pearson          306.70 24        0\n",
       "\n",
       "Phi-Coefficient   : NA \n",
       "Contingency Coeff.: 0.075 \n",
       "Cramer's V        : 0.038 "
      ]
     },
     "metadata": {},
     "output_type": "display_data"
    }
   ],
   "source": [
    "# Cramer's V shows the strength of association between categorical variables.\n",
    "print(\"clarity vs cut:\")\n",
    "assocstats(table(clean$clarity, clean$cut))\n",
    "print(\"clarity vs color:\")\n",
    "assocstats(table(clean$clarity, clean$color))\n",
    "print(\"cut vs color:\")\n",
    "assocstats(table(clean$cut, clean$color))"
   ]
  },
  {
   "cell_type": "markdown",
   "metadata": {},
   "source": [
    "# Feature Engineering"
   ]
  },
  {
   "cell_type": "markdown",
   "metadata": {},
   "source": [
    "## Prepare diamond dataset for model training and testing"
   ]
  },
  {
   "cell_type": "code",
   "execution_count": 23,
   "metadata": {},
   "outputs": [],
   "source": [
    "# Drop unwanted variables\n",
    "drop <- c(\"depth\",\"table\",\"x\",\"y\",\"z\")\n",
    "clean = clean[, !(names(clean) %in% drop)]"
   ]
  },
  {
   "cell_type": "code",
   "execution_count": 24,
   "metadata": {},
   "outputs": [],
   "source": [
    "# Log transformation\n",
    "clean$logprice=log(clean$price + 1)\n",
    "clean$logcarat=log(clean$carat + 1)"
   ]
  },
  {
   "cell_type": "code",
   "execution_count": 25,
   "metadata": {},
   "outputs": [],
   "source": [
    "# Create ordinal features\n",
    "# clarity_ord\n",
    "clean$clarity_ord[clean$clarity==\"I1\"]<-1\n",
    "clean$clarity_ord[clean$clarity==\"SI2\"]<-2\n",
    "clean$clarity_ord[clean$clarity==\"SI1\"]<-3\n",
    "clean$clarity_ord[clean$clarity==\"VS2\"]<-4\n",
    "clean$clarity_ord[clean$clarity==\"VS1\"]<-5\n",
    "clean$clarity_ord[clean$clarity==\"VVS2\"]<-6\n",
    "clean$clarity_ord[clean$clarity==\"VVS1\"]<-7\n",
    "clean$clarity_ord[clean$clarity==\"IF\"]<-8\n",
    "\n",
    "# color_ord\n",
    "clean$color_ord[clean$color==\"J\"]<-1\n",
    "clean$color_ord[clean$color==\"I\"]<-2\n",
    "clean$color_ord[clean$color==\"H\"]<-3\n",
    "clean$color_ord[clean$color==\"G\"]<-4\n",
    "clean$color_ord[clean$color==\"F\"]<-5\n",
    "clean$color_ord[clean$color==\"E\"]<-6\n",
    "clean$color_ord[clean$color==\"D\"]<-7\n",
    "\n",
    "# cut_ord\n",
    "clean$cut_ord[clean$cut==\"Fair\"]<-1\n",
    "clean$cut_ord[clean$cut==\"Good\"]<-2\n",
    "clean$cut_ord[clean$cut==\"Very Good\"]<-3\n",
    "clean$cut_ord[clean$cut==\"Premium\"]<-4\n",
    "clean$cut_ord[clean$cut==\"Ideal\"]<-5"
   ]
  },
  {
   "cell_type": "code",
   "execution_count": 26,
   "metadata": {},
   "outputs": [
    {
     "data": {
      "text/html": [
       "<table>\n",
       "<caption>A data.frame: 5 × 10</caption>\n",
       "<thead>\n",
       "\t<tr><th scope=col>carat</th><th scope=col>cut</th><th scope=col>color</th><th scope=col>clarity</th><th scope=col>price</th><th scope=col>logprice</th><th scope=col>logcarat</th><th scope=col>clarity_ord</th><th scope=col>color_ord</th><th scope=col>cut_ord</th></tr>\n",
       "\t<tr><th scope=col>&lt;dbl&gt;</th><th scope=col>&lt;fct&gt;</th><th scope=col>&lt;fct&gt;</th><th scope=col>&lt;fct&gt;</th><th scope=col>&lt;int&gt;</th><th scope=col>&lt;dbl&gt;</th><th scope=col>&lt;dbl&gt;</th><th scope=col>&lt;dbl&gt;</th><th scope=col>&lt;dbl&gt;</th><th scope=col>&lt;dbl&gt;</th></tr>\n",
       "</thead>\n",
       "<tbody>\n",
       "\t<tr><td>0.23</td><td>Ideal  </td><td>E</td><td>SI2</td><td>326</td><td>5.789960</td><td>0.2070142</td><td>2</td><td>6</td><td>5</td></tr>\n",
       "\t<tr><td>0.21</td><td>Premium</td><td>E</td><td>SI1</td><td>326</td><td>5.789960</td><td>0.1906204</td><td>3</td><td>6</td><td>4</td></tr>\n",
       "\t<tr><td>0.23</td><td>Good   </td><td>E</td><td>VS1</td><td>327</td><td>5.793014</td><td>0.2070142</td><td>5</td><td>6</td><td>2</td></tr>\n",
       "\t<tr><td>0.29</td><td>Premium</td><td>I</td><td>VS2</td><td>334</td><td>5.814131</td><td>0.2546422</td><td>4</td><td>2</td><td>4</td></tr>\n",
       "\t<tr><td>0.31</td><td>Good   </td><td>J</td><td>SI2</td><td>335</td><td>5.817111</td><td>0.2700271</td><td>2</td><td>1</td><td>2</td></tr>\n",
       "</tbody>\n",
       "</table>\n"
      ],
      "text/latex": [
       "A data.frame: 5 × 10\n",
       "\\begin{tabular}{r|llllllllll}\n",
       " carat & cut & color & clarity & price & logprice & logcarat & clarity\\_ord & color\\_ord & cut\\_ord\\\\\n",
       " <dbl> & <fct> & <fct> & <fct> & <int> & <dbl> & <dbl> & <dbl> & <dbl> & <dbl>\\\\\n",
       "\\hline\n",
       "\t 0.23 & Ideal   & E & SI2 & 326 & 5.789960 & 0.2070142 & 2 & 6 & 5\\\\\n",
       "\t 0.21 & Premium & E & SI1 & 326 & 5.789960 & 0.1906204 & 3 & 6 & 4\\\\\n",
       "\t 0.23 & Good    & E & VS1 & 327 & 5.793014 & 0.2070142 & 5 & 6 & 2\\\\\n",
       "\t 0.29 & Premium & I & VS2 & 334 & 5.814131 & 0.2546422 & 4 & 2 & 4\\\\\n",
       "\t 0.31 & Good    & J & SI2 & 335 & 5.817111 & 0.2700271 & 2 & 1 & 2\\\\\n",
       "\\end{tabular}\n"
      ],
      "text/markdown": [
       "\n",
       "A data.frame: 5 × 10\n",
       "\n",
       "| carat &lt;dbl&gt; | cut &lt;fct&gt; | color &lt;fct&gt; | clarity &lt;fct&gt; | price &lt;int&gt; | logprice &lt;dbl&gt; | logcarat &lt;dbl&gt; | clarity_ord &lt;dbl&gt; | color_ord &lt;dbl&gt; | cut_ord &lt;dbl&gt; |\n",
       "|---|---|---|---|---|---|---|---|---|---|\n",
       "| 0.23 | Ideal   | E | SI2 | 326 | 5.789960 | 0.2070142 | 2 | 6 | 5 |\n",
       "| 0.21 | Premium | E | SI1 | 326 | 5.789960 | 0.1906204 | 3 | 6 | 4 |\n",
       "| 0.23 | Good    | E | VS1 | 327 | 5.793014 | 0.2070142 | 5 | 6 | 2 |\n",
       "| 0.29 | Premium | I | VS2 | 334 | 5.814131 | 0.2546422 | 4 | 2 | 4 |\n",
       "| 0.31 | Good    | J | SI2 | 335 | 5.817111 | 0.2700271 | 2 | 1 | 2 |\n",
       "\n"
      ],
      "text/plain": [
       "  carat cut     color clarity price logprice logcarat  clarity_ord color_ord\n",
       "1 0.23  Ideal   E     SI2     326   5.789960 0.2070142 2           6        \n",
       "2 0.21  Premium E     SI1     326   5.789960 0.1906204 3           6        \n",
       "3 0.23  Good    E     VS1     327   5.793014 0.2070142 5           6        \n",
       "4 0.29  Premium I     VS2     334   5.814131 0.2546422 4           2        \n",
       "5 0.31  Good    J     SI2     335   5.817111 0.2700271 2           1        \n",
       "  cut_ord\n",
       "1 5      \n",
       "2 4      \n",
       "3 2      \n",
       "4 4      \n",
       "5 2      "
      ]
     },
     "metadata": {},
     "output_type": "display_data"
    }
   ],
   "source": [
    "# Look at the first 5 records of feature engineered diamond dataset\n",
    "head(clean, 5)"
   ]
  },
  {
   "cell_type": "code",
   "execution_count": 27,
   "metadata": {},
   "outputs": [],
   "source": [
    "# Dummifies categorical variables into dummy features. The original categorical variable \n",
    "# will be replaced by dummy features. fullRank makes one less variable than the number \n",
    "# of categories present to avoid perfect collinearity.\n",
    "dmy <- dummyVars(\" ~ .\", data = clean, fullRank =T)\n",
    "dmy_df <- data.frame(predict(dmy, newdata = clean))"
   ]
  },
  {
   "cell_type": "code",
   "execution_count": 28,
   "metadata": {},
   "outputs": [
    {
     "data": {
      "text/html": [
       "<table>\n",
       "<caption>A data.frame: 6 × 20</caption>\n",
       "<thead>\n",
       "\t<tr><th scope=col>cut.Good</th><th scope=col>cut.Ideal</th><th scope=col>cut.Premium</th><th scope=col>cut.Very.Good</th><th scope=col>color.E</th><th scope=col>color.F</th><th scope=col>color.G</th><th scope=col>color.H</th><th scope=col>color.I</th><th scope=col>color.J</th><th scope=col>clarity.IF</th><th scope=col>clarity.SI1</th><th scope=col>clarity.SI2</th><th scope=col>clarity.VS1</th><th scope=col>clarity.VS2</th><th scope=col>clarity.VVS1</th><th scope=col>clarity.VVS2</th><th scope=col>logcarat</th><th scope=col>logprice</th><th scope=col>price</th></tr>\n",
       "\t<tr><th scope=col>&lt;dbl&gt;</th><th scope=col>&lt;dbl&gt;</th><th scope=col>&lt;dbl&gt;</th><th scope=col>&lt;dbl&gt;</th><th scope=col>&lt;dbl&gt;</th><th scope=col>&lt;dbl&gt;</th><th scope=col>&lt;dbl&gt;</th><th scope=col>&lt;dbl&gt;</th><th scope=col>&lt;dbl&gt;</th><th scope=col>&lt;dbl&gt;</th><th scope=col>&lt;dbl&gt;</th><th scope=col>&lt;dbl&gt;</th><th scope=col>&lt;dbl&gt;</th><th scope=col>&lt;dbl&gt;</th><th scope=col>&lt;dbl&gt;</th><th scope=col>&lt;dbl&gt;</th><th scope=col>&lt;dbl&gt;</th><th scope=col>&lt;dbl&gt;</th><th scope=col>&lt;dbl&gt;</th><th scope=col>&lt;dbl&gt;</th></tr>\n",
       "</thead>\n",
       "<tbody>\n",
       "\t<tr><td>0</td><td>1</td><td>0</td><td>0</td><td>1</td><td>0</td><td>0</td><td>0</td><td>0</td><td>0</td><td>0</td><td>0</td><td>1</td><td>0</td><td>0</td><td>0</td><td>0</td><td>0.2070142</td><td>5.789960</td><td>326</td></tr>\n",
       "\t<tr><td>0</td><td>0</td><td>1</td><td>0</td><td>1</td><td>0</td><td>0</td><td>0</td><td>0</td><td>0</td><td>0</td><td>1</td><td>0</td><td>0</td><td>0</td><td>0</td><td>0</td><td>0.1906204</td><td>5.789960</td><td>326</td></tr>\n",
       "\t<tr><td>1</td><td>0</td><td>0</td><td>0</td><td>1</td><td>0</td><td>0</td><td>0</td><td>0</td><td>0</td><td>0</td><td>0</td><td>0</td><td>1</td><td>0</td><td>0</td><td>0</td><td>0.2070142</td><td>5.793014</td><td>327</td></tr>\n",
       "\t<tr><td>0</td><td>0</td><td>1</td><td>0</td><td>0</td><td>0</td><td>0</td><td>0</td><td>1</td><td>0</td><td>0</td><td>0</td><td>0</td><td>0</td><td>1</td><td>0</td><td>0</td><td>0.2546422</td><td>5.814131</td><td>334</td></tr>\n",
       "\t<tr><td>1</td><td>0</td><td>0</td><td>0</td><td>0</td><td>0</td><td>0</td><td>0</td><td>0</td><td>1</td><td>0</td><td>0</td><td>1</td><td>0</td><td>0</td><td>0</td><td>0</td><td>0.2700271</td><td>5.817111</td><td>335</td></tr>\n",
       "\t<tr><td>0</td><td>0</td><td>0</td><td>1</td><td>0</td><td>0</td><td>0</td><td>0</td><td>0</td><td>1</td><td>0</td><td>0</td><td>0</td><td>0</td><td>0</td><td>0</td><td>1</td><td>0.2151114</td><td>5.820083</td><td>336</td></tr>\n",
       "</tbody>\n",
       "</table>\n"
      ],
      "text/latex": [
       "A data.frame: 6 × 20\n",
       "\\begin{tabular}{r|llllllllllllllllllll}\n",
       " cut.Good & cut.Ideal & cut.Premium & cut.Very.Good & color.E & color.F & color.G & color.H & color.I & color.J & clarity.IF & clarity.SI1 & clarity.SI2 & clarity.VS1 & clarity.VS2 & clarity.VVS1 & clarity.VVS2 & logcarat & logprice & price\\\\\n",
       " <dbl> & <dbl> & <dbl> & <dbl> & <dbl> & <dbl> & <dbl> & <dbl> & <dbl> & <dbl> & <dbl> & <dbl> & <dbl> & <dbl> & <dbl> & <dbl> & <dbl> & <dbl> & <dbl> & <dbl>\\\\\n",
       "\\hline\n",
       "\t 0 & 1 & 0 & 0 & 1 & 0 & 0 & 0 & 0 & 0 & 0 & 0 & 1 & 0 & 0 & 0 & 0 & 0.2070142 & 5.789960 & 326\\\\\n",
       "\t 0 & 0 & 1 & 0 & 1 & 0 & 0 & 0 & 0 & 0 & 0 & 1 & 0 & 0 & 0 & 0 & 0 & 0.1906204 & 5.789960 & 326\\\\\n",
       "\t 1 & 0 & 0 & 0 & 1 & 0 & 0 & 0 & 0 & 0 & 0 & 0 & 0 & 1 & 0 & 0 & 0 & 0.2070142 & 5.793014 & 327\\\\\n",
       "\t 0 & 0 & 1 & 0 & 0 & 0 & 0 & 0 & 1 & 0 & 0 & 0 & 0 & 0 & 1 & 0 & 0 & 0.2546422 & 5.814131 & 334\\\\\n",
       "\t 1 & 0 & 0 & 0 & 0 & 0 & 0 & 0 & 0 & 1 & 0 & 0 & 1 & 0 & 0 & 0 & 0 & 0.2700271 & 5.817111 & 335\\\\\n",
       "\t 0 & 0 & 0 & 1 & 0 & 0 & 0 & 0 & 0 & 1 & 0 & 0 & 0 & 0 & 0 & 0 & 1 & 0.2151114 & 5.820083 & 336\\\\\n",
       "\\end{tabular}\n"
      ],
      "text/markdown": [
       "\n",
       "A data.frame: 6 × 20\n",
       "\n",
       "| cut.Good &lt;dbl&gt; | cut.Ideal &lt;dbl&gt; | cut.Premium &lt;dbl&gt; | cut.Very.Good &lt;dbl&gt; | color.E &lt;dbl&gt; | color.F &lt;dbl&gt; | color.G &lt;dbl&gt; | color.H &lt;dbl&gt; | color.I &lt;dbl&gt; | color.J &lt;dbl&gt; | clarity.IF &lt;dbl&gt; | clarity.SI1 &lt;dbl&gt; | clarity.SI2 &lt;dbl&gt; | clarity.VS1 &lt;dbl&gt; | clarity.VS2 &lt;dbl&gt; | clarity.VVS1 &lt;dbl&gt; | clarity.VVS2 &lt;dbl&gt; | logcarat &lt;dbl&gt; | logprice &lt;dbl&gt; | price &lt;dbl&gt; |\n",
       "|---|---|---|---|---|---|---|---|---|---|---|---|---|---|---|---|---|---|---|---|\n",
       "| 0 | 1 | 0 | 0 | 1 | 0 | 0 | 0 | 0 | 0 | 0 | 0 | 1 | 0 | 0 | 0 | 0 | 0.2070142 | 5.789960 | 326 |\n",
       "| 0 | 0 | 1 | 0 | 1 | 0 | 0 | 0 | 0 | 0 | 0 | 1 | 0 | 0 | 0 | 0 | 0 | 0.1906204 | 5.789960 | 326 |\n",
       "| 1 | 0 | 0 | 0 | 1 | 0 | 0 | 0 | 0 | 0 | 0 | 0 | 0 | 1 | 0 | 0 | 0 | 0.2070142 | 5.793014 | 327 |\n",
       "| 0 | 0 | 1 | 0 | 0 | 0 | 0 | 0 | 1 | 0 | 0 | 0 | 0 | 0 | 1 | 0 | 0 | 0.2546422 | 5.814131 | 334 |\n",
       "| 1 | 0 | 0 | 0 | 0 | 0 | 0 | 0 | 0 | 1 | 0 | 0 | 1 | 0 | 0 | 0 | 0 | 0.2700271 | 5.817111 | 335 |\n",
       "| 0 | 0 | 0 | 1 | 0 | 0 | 0 | 0 | 0 | 1 | 0 | 0 | 0 | 0 | 0 | 0 | 1 | 0.2151114 | 5.820083 | 336 |\n",
       "\n"
      ],
      "text/plain": [
       "  cut.Good cut.Ideal cut.Premium cut.Very.Good color.E color.F color.G color.H\n",
       "1 0        1         0           0             1       0       0       0      \n",
       "2 0        0         1           0             1       0       0       0      \n",
       "3 1        0         0           0             1       0       0       0      \n",
       "4 0        0         1           0             0       0       0       0      \n",
       "5 1        0         0           0             0       0       0       0      \n",
       "6 0        0         0           1             0       0       0       0      \n",
       "  color.I color.J clarity.IF clarity.SI1 clarity.SI2 clarity.VS1 clarity.VS2\n",
       "1 0       0       0          0           1           0           0          \n",
       "2 0       0       0          1           0           0           0          \n",
       "3 0       0       0          0           0           1           0          \n",
       "4 1       0       0          0           0           0           1          \n",
       "5 0       1       0          0           1           0           0          \n",
       "6 0       1       0          0           0           0           0          \n",
       "  clarity.VVS1 clarity.VVS2 logcarat  logprice price\n",
       "1 0            0            0.2070142 5.789960 326  \n",
       "2 0            0            0.1906204 5.789960 326  \n",
       "3 0            0            0.2070142 5.793014 327  \n",
       "4 0            0            0.2546422 5.814131 334  \n",
       "5 0            0            0.2700271 5.817111 335  \n",
       "6 0            1            0.2151114 5.820083 336  "
      ]
     },
     "metadata": {},
     "output_type": "display_data"
    }
   ],
   "source": [
    "# Prepared dummy version dataset\n",
    "drop <- c(\"carat\",\"clarity_ord\",\"color_ord\",\"cut_ord\")\n",
    "clean2 = dmy_df[, !(names(dmy_df) %in% drop)]\n",
    "\n",
    "col_order <- c(1:17,20,19,18)\n",
    "my_data2 <- clean2[, col_order]\n",
    "\n",
    "head(my_data2)\n"
   ]
  },
  {
   "cell_type": "markdown",
   "metadata": {},
   "source": [
    "## Prepare new diamond dataset for price prediction"
   ]
  },
  {
   "cell_type": "code",
   "execution_count": 29,
   "metadata": {},
   "outputs": [
    {
     "data": {
      "text/html": [
       "<table>\n",
       "<caption>A data.frame: 6 × 8</caption>\n",
       "<thead>\n",
       "\t<tr><th scope=col>carat</th><th scope=col>cut</th><th scope=col>cut_ord</th><th scope=col>color</th><th scope=col>clarity</th><th scope=col>clarity_ord</th><th scope=col>logcarat</th><th scope=col>color_ord</th></tr>\n",
       "\t<tr><th scope=col>&lt;dbl&gt;</th><th scope=col>&lt;fct&gt;</th><th scope=col>&lt;int&gt;</th><th scope=col>&lt;fct&gt;</th><th scope=col>&lt;fct&gt;</th><th scope=col>&lt;int&gt;</th><th scope=col>&lt;dbl&gt;</th><th scope=col>&lt;dbl&gt;</th></tr>\n",
       "</thead>\n",
       "<tbody>\n",
       "\t<tr><td>1.22</td><td>Premium  </td><td>4</td><td>G</td><td>SI1 </td><td>3</td><td>0.7975072</td><td>4</td></tr>\n",
       "\t<tr><td>1.01</td><td>Good     </td><td>2</td><td>G</td><td>VS2 </td><td>5</td><td>0.6981347</td><td>4</td></tr>\n",
       "\t<tr><td>0.71</td><td>Very Good</td><td>3</td><td>I</td><td>VS2 </td><td>5</td><td>0.5364934</td><td>2</td></tr>\n",
       "\t<tr><td>1.01</td><td>Ideal    </td><td>5</td><td>D</td><td>SI2 </td><td>2</td><td>0.6981347</td><td>7</td></tr>\n",
       "\t<tr><td>0.27</td><td>Ideal    </td><td>5</td><td>H</td><td>VVS2</td><td>6</td><td>0.2390169</td><td>3</td></tr>\n",
       "\t<tr><td>0.52</td><td>Premium  </td><td>4</td><td>G</td><td>VS1 </td><td>4</td><td>0.4187103</td><td>4</td></tr>\n",
       "</tbody>\n",
       "</table>\n"
      ],
      "text/latex": [
       "A data.frame: 6 × 8\n",
       "\\begin{tabular}{r|llllllll}\n",
       " carat & cut & cut\\_ord & color & clarity & clarity\\_ord & logcarat & color\\_ord\\\\\n",
       " <dbl> & <fct> & <int> & <fct> & <fct> & <int> & <dbl> & <dbl>\\\\\n",
       "\\hline\n",
       "\t 1.22 & Premium   & 4 & G & SI1  & 3 & 0.7975072 & 4\\\\\n",
       "\t 1.01 & Good      & 2 & G & VS2  & 5 & 0.6981347 & 4\\\\\n",
       "\t 0.71 & Very Good & 3 & I & VS2  & 5 & 0.5364934 & 2\\\\\n",
       "\t 1.01 & Ideal     & 5 & D & SI2  & 2 & 0.6981347 & 7\\\\\n",
       "\t 0.27 & Ideal     & 5 & H & VVS2 & 6 & 0.2390169 & 3\\\\\n",
       "\t 0.52 & Premium   & 4 & G & VS1  & 4 & 0.4187103 & 4\\\\\n",
       "\\end{tabular}\n"
      ],
      "text/markdown": [
       "\n",
       "A data.frame: 6 × 8\n",
       "\n",
       "| carat &lt;dbl&gt; | cut &lt;fct&gt; | cut_ord &lt;int&gt; | color &lt;fct&gt; | clarity &lt;fct&gt; | clarity_ord &lt;int&gt; | logcarat &lt;dbl&gt; | color_ord &lt;dbl&gt; |\n",
       "|---|---|---|---|---|---|---|---|\n",
       "| 1.22 | Premium   | 4 | G | SI1  | 3 | 0.7975072 | 4 |\n",
       "| 1.01 | Good      | 2 | G | VS2  | 5 | 0.6981347 | 4 |\n",
       "| 0.71 | Very Good | 3 | I | VS2  | 5 | 0.5364934 | 2 |\n",
       "| 1.01 | Ideal     | 5 | D | SI2  | 2 | 0.6981347 | 7 |\n",
       "| 0.27 | Ideal     | 5 | H | VVS2 | 6 | 0.2390169 | 3 |\n",
       "| 0.52 | Premium   | 4 | G | VS1  | 4 | 0.4187103 | 4 |\n",
       "\n"
      ],
      "text/plain": [
       "  carat cut       cut_ord color clarity clarity_ord logcarat  color_ord\n",
       "1 1.22  Premium   4       G     SI1     3           0.7975072 4        \n",
       "2 1.01  Good      2       G     VS2     5           0.6981347 4        \n",
       "3 0.71  Very Good 3       I     VS2     5           0.5364934 2        \n",
       "4 1.01  Ideal     5       D     SI2     2           0.6981347 7        \n",
       "5 0.27  Ideal     5       H     VVS2    6           0.2390169 3        \n",
       "6 0.52  Premium   4       G     VS1     4           0.4187103 4        "
      ]
     },
     "metadata": {},
     "output_type": "display_data"
    }
   ],
   "source": [
    "# New diamond dataset is prepared to predict diamond price in model1 and model3.\n",
    "# Drop the first unnamed column\n",
    "new2 <- subset(new, select=-c(X))\n",
    "\n",
    "# Log transformation\n",
    "new2$logcarat=log(new2$carat + 1)\n",
    "\n",
    "# Create ordinal features\n",
    "new2$color_ord[new2$color==\"J\"]<-1\n",
    "new2$color_ord[new2$color==\"I\"]<-2\n",
    "new2$color_ord[new2$color==\"H\"]<-3\n",
    "new2$color_ord[new2$color==\"G\"]<-4\n",
    "new2$color_ord[new2$color==\"F\"]<-5\n",
    "new2$color_ord[new2$color==\"E\"]<-6\n",
    "new2$color_ord[new2$color==\"D\"]<-7\n",
    "\n",
    "head(new2)\n"
   ]
  },
  {
   "cell_type": "code",
   "execution_count": 30,
   "metadata": {},
   "outputs": [
    {
     "data": {
      "text/html": [
       "<table>\n",
       "<caption>A data.frame: 6 × 22</caption>\n",
       "<thead>\n",
       "\t<tr><th scope=col>carat</th><th scope=col>cut.Good</th><th scope=col>cut.Ideal</th><th scope=col>cut.Premium</th><th scope=col>cut.Very.Good</th><th scope=col>cut_ord</th><th scope=col>color.E</th><th scope=col>color.F</th><th scope=col>color.G</th><th scope=col>color.H</th><th scope=col>...</th><th scope=col>clarity.IF</th><th scope=col>clarity.SI1</th><th scope=col>clarity.SI2</th><th scope=col>clarity.VS1</th><th scope=col>clarity.VS2</th><th scope=col>clarity.VVS1</th><th scope=col>clarity.VVS2</th><th scope=col>clarity_ord</th><th scope=col>logcarat</th><th scope=col>color_ord</th></tr>\n",
       "\t<tr><th scope=col>&lt;dbl&gt;</th><th scope=col>&lt;dbl&gt;</th><th scope=col>&lt;dbl&gt;</th><th scope=col>&lt;dbl&gt;</th><th scope=col>&lt;dbl&gt;</th><th scope=col>&lt;dbl&gt;</th><th scope=col>&lt;dbl&gt;</th><th scope=col>&lt;dbl&gt;</th><th scope=col>&lt;dbl&gt;</th><th scope=col>&lt;dbl&gt;</th><th scope=col>...</th><th scope=col>&lt;dbl&gt;</th><th scope=col>&lt;dbl&gt;</th><th scope=col>&lt;dbl&gt;</th><th scope=col>&lt;dbl&gt;</th><th scope=col>&lt;dbl&gt;</th><th scope=col>&lt;dbl&gt;</th><th scope=col>&lt;dbl&gt;</th><th scope=col>&lt;dbl&gt;</th><th scope=col>&lt;dbl&gt;</th><th scope=col>&lt;dbl&gt;</th></tr>\n",
       "</thead>\n",
       "<tbody>\n",
       "\t<tr><td>1.22</td><td>0</td><td>0</td><td>1</td><td>0</td><td>4</td><td>0</td><td>0</td><td>1</td><td>0</td><td>...</td><td>0</td><td>1</td><td>0</td><td>0</td><td>0</td><td>0</td><td>0</td><td>3</td><td>0.7975072</td><td>4</td></tr>\n",
       "\t<tr><td>1.01</td><td>1</td><td>0</td><td>0</td><td>0</td><td>2</td><td>0</td><td>0</td><td>1</td><td>0</td><td>...</td><td>0</td><td>0</td><td>0</td><td>0</td><td>1</td><td>0</td><td>0</td><td>5</td><td>0.6981347</td><td>4</td></tr>\n",
       "\t<tr><td>0.71</td><td>0</td><td>0</td><td>0</td><td>1</td><td>3</td><td>0</td><td>0</td><td>0</td><td>0</td><td>...</td><td>0</td><td>0</td><td>0</td><td>0</td><td>1</td><td>0</td><td>0</td><td>5</td><td>0.5364934</td><td>2</td></tr>\n",
       "\t<tr><td>1.01</td><td>0</td><td>1</td><td>0</td><td>0</td><td>5</td><td>0</td><td>0</td><td>0</td><td>0</td><td>...</td><td>0</td><td>0</td><td>1</td><td>0</td><td>0</td><td>0</td><td>0</td><td>2</td><td>0.6981347</td><td>7</td></tr>\n",
       "\t<tr><td>0.27</td><td>0</td><td>1</td><td>0</td><td>0</td><td>5</td><td>0</td><td>0</td><td>0</td><td>1</td><td>...</td><td>0</td><td>0</td><td>0</td><td>0</td><td>0</td><td>0</td><td>1</td><td>6</td><td>0.2390169</td><td>3</td></tr>\n",
       "\t<tr><td>0.52</td><td>0</td><td>0</td><td>1</td><td>0</td><td>4</td><td>0</td><td>0</td><td>1</td><td>0</td><td>...</td><td>0</td><td>0</td><td>0</td><td>1</td><td>0</td><td>0</td><td>0</td><td>4</td><td>0.4187103</td><td>4</td></tr>\n",
       "</tbody>\n",
       "</table>\n"
      ],
      "text/latex": [
       "A data.frame: 6 × 22\n",
       "\\begin{tabular}{r|llllllllllllllllllllll}\n",
       " carat & cut.Good & cut.Ideal & cut.Premium & cut.Very.Good & cut\\_ord & color.E & color.F & color.G & color.H & color.I & color.J & clarity.IF & clarity.SI1 & clarity.SI2 & clarity.VS1 & clarity.VS2 & clarity.VVS1 & clarity.VVS2 & clarity\\_ord & logcarat & color\\_ord\\\\\n",
       " <dbl> & <dbl> & <dbl> & <dbl> & <dbl> & <dbl> & <dbl> & <dbl> & <dbl> & <dbl> & <dbl> & <dbl> & <dbl> & <dbl> & <dbl> & <dbl> & <dbl> & <dbl> & <dbl> & <dbl> & <dbl> & <dbl>\\\\\n",
       "\\hline\n",
       "\t 1.22 & 0 & 0 & 1 & 0 & 4 & 0 & 0 & 1 & 0 & 0 & 0 & 0 & 1 & 0 & 0 & 0 & 0 & 0 & 3 & 0.7975072 & 4\\\\\n",
       "\t 1.01 & 1 & 0 & 0 & 0 & 2 & 0 & 0 & 1 & 0 & 0 & 0 & 0 & 0 & 0 & 0 & 1 & 0 & 0 & 5 & 0.6981347 & 4\\\\\n",
       "\t 0.71 & 0 & 0 & 0 & 1 & 3 & 0 & 0 & 0 & 0 & 1 & 0 & 0 & 0 & 0 & 0 & 1 & 0 & 0 & 5 & 0.5364934 & 2\\\\\n",
       "\t 1.01 & 0 & 1 & 0 & 0 & 5 & 0 & 0 & 0 & 0 & 0 & 0 & 0 & 0 & 1 & 0 & 0 & 0 & 0 & 2 & 0.6981347 & 7\\\\\n",
       "\t 0.27 & 0 & 1 & 0 & 0 & 5 & 0 & 0 & 0 & 1 & 0 & 0 & 0 & 0 & 0 & 0 & 0 & 0 & 1 & 6 & 0.2390169 & 3\\\\\n",
       "\t 0.52 & 0 & 0 & 1 & 0 & 4 & 0 & 0 & 1 & 0 & 0 & 0 & 0 & 0 & 0 & 1 & 0 & 0 & 0 & 4 & 0.4187103 & 4\\\\\n",
       "\\end{tabular}\n"
      ],
      "text/markdown": [
       "\n",
       "A data.frame: 6 × 22\n",
       "\n",
       "| carat &lt;dbl&gt; | cut.Good &lt;dbl&gt; | cut.Ideal &lt;dbl&gt; | cut.Premium &lt;dbl&gt; | cut.Very.Good &lt;dbl&gt; | cut_ord &lt;dbl&gt; | color.E &lt;dbl&gt; | color.F &lt;dbl&gt; | color.G &lt;dbl&gt; | color.H &lt;dbl&gt; | ... ... | clarity.IF &lt;dbl&gt; | clarity.SI1 &lt;dbl&gt; | clarity.SI2 &lt;dbl&gt; | clarity.VS1 &lt;dbl&gt; | clarity.VS2 &lt;dbl&gt; | clarity.VVS1 &lt;dbl&gt; | clarity.VVS2 &lt;dbl&gt; | clarity_ord &lt;dbl&gt; | logcarat &lt;dbl&gt; | color_ord &lt;dbl&gt; |\n",
       "|---|---|---|---|---|---|---|---|---|---|---|---|---|---|---|---|---|---|---|---|---|\n",
       "| 1.22 | 0 | 0 | 1 | 0 | 4 | 0 | 0 | 1 | 0 | ... | 0 | 1 | 0 | 0 | 0 | 0 | 0 | 3 | 0.7975072 | 4 |\n",
       "| 1.01 | 1 | 0 | 0 | 0 | 2 | 0 | 0 | 1 | 0 | ... | 0 | 0 | 0 | 0 | 1 | 0 | 0 | 5 | 0.6981347 | 4 |\n",
       "| 0.71 | 0 | 0 | 0 | 1 | 3 | 0 | 0 | 0 | 0 | ... | 0 | 0 | 0 | 0 | 1 | 0 | 0 | 5 | 0.5364934 | 2 |\n",
       "| 1.01 | 0 | 1 | 0 | 0 | 5 | 0 | 0 | 0 | 0 | ... | 0 | 0 | 1 | 0 | 0 | 0 | 0 | 2 | 0.6981347 | 7 |\n",
       "| 0.27 | 0 | 1 | 0 | 0 | 5 | 0 | 0 | 0 | 1 | ... | 0 | 0 | 0 | 0 | 0 | 0 | 1 | 6 | 0.2390169 | 3 |\n",
       "| 0.52 | 0 | 0 | 1 | 0 | 4 | 0 | 0 | 1 | 0 | ... | 0 | 0 | 0 | 1 | 0 | 0 | 0 | 4 | 0.4187103 | 4 |\n",
       "\n"
      ],
      "text/plain": [
       "  carat cut.Good cut.Ideal cut.Premium cut.Very.Good cut_ord color.E color.F\n",
       "1 1.22  0        0         1           0             4       0       0      \n",
       "2 1.01  1        0         0           0             2       0       0      \n",
       "3 0.71  0        0         0           1             3       0       0      \n",
       "4 1.01  0        1         0           0             5       0       0      \n",
       "5 0.27  0        1         0           0             5       0       0      \n",
       "6 0.52  0        0         1           0             4       0       0      \n",
       "  color.G color.H ... clarity.IF clarity.SI1 clarity.SI2 clarity.VS1\n",
       "1 1       0       ... 0          1           0           0          \n",
       "2 1       0       ... 0          0           0           0          \n",
       "3 0       0       ... 0          0           0           0          \n",
       "4 0       0       ... 0          0           1           0          \n",
       "5 0       1       ... 0          0           0           0          \n",
       "6 1       0       ... 0          0           0           1          \n",
       "  clarity.VS2 clarity.VVS1 clarity.VVS2 clarity_ord logcarat  color_ord\n",
       "1 0           0            0            3           0.7975072 4        \n",
       "2 1           0            0            5           0.6981347 4        \n",
       "3 1           0            0            5           0.5364934 2        \n",
       "4 0           0            0            2           0.6981347 7        \n",
       "5 0           0            1            6           0.2390169 3        \n",
       "6 0           0            0            4           0.4187103 4        "
      ]
     },
     "metadata": {},
     "output_type": "display_data"
    }
   ],
   "source": [
    "# Prepare dummy version new diamonds for diamond price prediction in model2\n",
    "# that uses the dummy features as predictors.\n",
    "dmy2 <- dummyVars(\" ~ .\", data = new2, fullRank =T)\n",
    "dmy_new2 <- data.frame(predict(dmy2, newdata = new2))\n",
    "\n",
    "head(dmy_new2)"
   ]
  },
  {
   "cell_type": "markdown",
   "metadata": {},
   "source": [
    "# Predictive Analysis"
   ]
  },
  {
   "cell_type": "code",
   "execution_count": 32,
   "metadata": {},
   "outputs": [],
   "source": [
    "# We have two versions of datasets - clean: kept the original categorical variables; \n",
    "# and dummy: replaced the original categorical variables dummy features.\n",
    "\n",
    "# In predictive analysis, we will three models: \n",
    "# Model 1 - uses ordinal features with the clean dataset;\n",
    "# Model 2 - uses dummy features with dummy dataset;\n",
    "# Model 3 - uses interaction from original categorical variables with the clean dataset.\n",
    "\n",
    "# We will conduct the feature selection for model 2 as model 1 only has 3 ordinal Cs \n",
    "# and log transformed carat and model 3 only has only has 3 original categorical features\n",
    "# and log carat, where R allows to add interaction with * between interactive features and\n",
    "# machine will break down categorical features into their sub group levels and interact\n",
    "# each other. \n",
    "\n",
    "# Note that the number of effects selected by machine is large, which ends with 129. \n"
   ]
  },
  {
   "cell_type": "markdown",
   "metadata": {},
   "source": [
    "## Model 1"
   ]
  },
  {
   "cell_type": "markdown",
   "metadata": {},
   "source": [
    "### Split the data into training and test set"
   ]
  },
  {
   "cell_type": "code",
   "execution_count": 33,
   "metadata": {},
   "outputs": [],
   "source": [
    "set.seed(123)\n",
    "training.samples1 <- clean$price %>%\n",
    "  createDataPartition(p=0.7, list=FALSE)\n",
    "train.data1 <- clean[training.samples1,]\n",
    "test.data1<- clean[-training.samples1,]"
   ]
  },
  {
   "cell_type": "markdown",
   "metadata": {},
   "source": [
    "### Model1 training"
   ]
  },
  {
   "cell_type": "code",
   "execution_count": 34,
   "metadata": {},
   "outputs": [
    {
     "data": {
      "text/plain": [
       "\n",
       "Call:\n",
       "lm(formula = logprice ~ logcarat + cut_ord + clarity_ord + color_ord, \n",
       "    data = train.data1)\n",
       "\n",
       "Residuals:\n",
       "     Min       1Q   Median       3Q      Max \n",
       "-2.32863 -0.14716  0.03893  0.15099  1.16371 \n",
       "\n",
       "Coefficients:\n",
       "             Estimate Std. Error t value Pr(>|t|)    \n",
       "(Intercept) 4.3935829  0.0076388  575.17   <2e-16 ***\n",
       "logcarat    4.4213945  0.0052724  838.60   <2e-16 ***\n",
       "cut_ord     0.0260737  0.0010365   25.16   <2e-16 ***\n",
       "clarity_ord 0.1104418  0.0007576  145.78   <2e-16 ***\n",
       "color_ord   0.0884238  0.0007014  126.07   <2e-16 ***\n",
       "---\n",
       "Signif. codes:  0 '***' 0.001 '**' 0.01 '*' 0.05 '.' 0.1 ' ' 1\n",
       "\n",
       "Residual standard error: 0.2201 on 37640 degrees of freedom\n",
       "Multiple R-squared:  0.9529,\tAdjusted R-squared:  0.9528 \n",
       "F-statistic: 1.902e+05 on 4 and 37640 DF,  p-value: < 2.2e-16\n"
      ]
     },
     "metadata": {},
     "output_type": "display_data"
    }
   ],
   "source": [
    "model1 <- lm(logprice ~ logcarat + cut_ord + clarity_ord + color_ord, data=train.data1)\n",
    "summary(model1)"
   ]
  },
  {
   "cell_type": "markdown",
   "metadata": {},
   "source": [
    "### Model 1 validation"
   ]
  },
  {
   "cell_type": "code",
   "execution_count": 35,
   "metadata": {},
   "outputs": [],
   "source": [
    "# Apply model to testing/validation dataset\n",
    "test.data1$pred1 <- model1 %>% predict(test.data1)"
   ]
  },
  {
   "cell_type": "code",
   "execution_count": 59,
   "metadata": {},
   "outputs": [
    {
     "name": "stdout",
     "output_type": "stream",
     "text": [
      "[1] \"RMSE: 0.2249\"\n"
     ]
    }
   ],
   "source": [
    "# (a) Prediction error, RMSE\n",
    "print(paste0(\"RMSE: \", round(RMSE(test.data1$pred1, test.data1$logprice),4)))\n"
   ]
  },
  {
   "cell_type": "code",
   "execution_count": 58,
   "metadata": {},
   "outputs": [
    {
     "name": "stdout",
     "output_type": "stream",
     "text": [
      "[1] \"R Square: 0.9509\"\n"
     ]
    }
   ],
   "source": [
    "# (b) Prediction R square\n",
    "print(paste0(\"R Square: \", round(R2(test.data1$pred1, test.data1$logprice), 4)))\n"
   ]
  },
  {
   "cell_type": "code",
   "execution_count": 61,
   "metadata": {},
   "outputs": [
    {
     "name": "stdout",
     "output_type": "stream",
     "text": [
      "[1] \"Dollar Residual: 270.6\"\n"
     ]
    }
   ],
   "source": [
    "# (c) Mean residual between predicted and actual price\n",
    "test.data1$rs1 <- exp(test.data1$pred1)-1-test.data1$price\n",
    "print(paste0(\"Dollar Residual: \", round(mean(test.data1$rs1),1)))"
   ]
  },
  {
   "cell_type": "markdown",
   "metadata": {},
   "source": [
    "### Model 1 prediction in new diamond dataset"
   ]
  },
  {
   "cell_type": "code",
   "execution_count": 65,
   "metadata": {},
   "outputs": [
    {
     "data": {
      "text/html": [
       "<table>\n",
       "<caption>A data.frame: 6 × 10</caption>\n",
       "<thead>\n",
       "\t<tr><th scope=col>carat</th><th scope=col>cut</th><th scope=col>cut_ord</th><th scope=col>color</th><th scope=col>clarity</th><th scope=col>clarity_ord</th><th scope=col>logcarat</th><th scope=col>color_ord</th><th scope=col>newpred1</th><th scope=col>pred1price</th></tr>\n",
       "\t<tr><th scope=col>&lt;dbl&gt;</th><th scope=col>&lt;fct&gt;</th><th scope=col>&lt;int&gt;</th><th scope=col>&lt;fct&gt;</th><th scope=col>&lt;fct&gt;</th><th scope=col>&lt;int&gt;</th><th scope=col>&lt;dbl&gt;</th><th scope=col>&lt;dbl&gt;</th><th scope=col>&lt;dbl&gt;</th><th scope=col>&lt;dbl&gt;</th></tr>\n",
       "</thead>\n",
       "<tbody>\n",
       "\t<tr><td>1.22</td><td>Premium  </td><td>4</td><td>G</td><td>SI1 </td><td>3</td><td>0.7975072</td><td>4</td><td>8.708992</td><td>6056.1341</td></tr>\n",
       "\t<tr><td>1.01</td><td>Good     </td><td>2</td><td>G</td><td>VS2 </td><td>5</td><td>0.6981347</td><td>4</td><td>8.438363</td><td>4619.9860</td></tr>\n",
       "\t<tr><td>0.71</td><td>Very Good</td><td>3</td><td>I</td><td>VS2 </td><td>5</td><td>0.5364934</td><td>2</td><td>7.572909</td><td>1943.7900</td></tr>\n",
       "\t<tr><td>1.01</td><td>Ideal    </td><td>5</td><td>D</td><td>SI2 </td><td>2</td><td>0.6981347</td><td>7</td><td>8.450530</td><td>4676.5531</td></tr>\n",
       "\t<tr><td>0.27</td><td>Ideal    </td><td>5</td><td>H</td><td>VVS2</td><td>6</td><td>0.2390169</td><td>3</td><td>6.508661</td><td> 669.9277</td></tr>\n",
       "\t<tr><td>0.52</td><td>Premium  </td><td>4</td><td>G</td><td>VS1 </td><td>4</td><td>0.4187103</td><td>4</td><td>7.144623</td><td>1266.2741</td></tr>\n",
       "</tbody>\n",
       "</table>\n"
      ],
      "text/latex": [
       "A data.frame: 6 × 10\n",
       "\\begin{tabular}{r|llllllllll}\n",
       " carat & cut & cut\\_ord & color & clarity & clarity\\_ord & logcarat & color\\_ord & newpred1 & pred1price\\\\\n",
       " <dbl> & <fct> & <int> & <fct> & <fct> & <int> & <dbl> & <dbl> & <dbl> & <dbl>\\\\\n",
       "\\hline\n",
       "\t 1.22 & Premium   & 4 & G & SI1  & 3 & 0.7975072 & 4 & 8.708992 & 6056.1341\\\\\n",
       "\t 1.01 & Good      & 2 & G & VS2  & 5 & 0.6981347 & 4 & 8.438363 & 4619.9860\\\\\n",
       "\t 0.71 & Very Good & 3 & I & VS2  & 5 & 0.5364934 & 2 & 7.572909 & 1943.7900\\\\\n",
       "\t 1.01 & Ideal     & 5 & D & SI2  & 2 & 0.6981347 & 7 & 8.450530 & 4676.5531\\\\\n",
       "\t 0.27 & Ideal     & 5 & H & VVS2 & 6 & 0.2390169 & 3 & 6.508661 &  669.9277\\\\\n",
       "\t 0.52 & Premium   & 4 & G & VS1  & 4 & 0.4187103 & 4 & 7.144623 & 1266.2741\\\\\n",
       "\\end{tabular}\n"
      ],
      "text/markdown": [
       "\n",
       "A data.frame: 6 × 10\n",
       "\n",
       "| carat &lt;dbl&gt; | cut &lt;fct&gt; | cut_ord &lt;int&gt; | color &lt;fct&gt; | clarity &lt;fct&gt; | clarity_ord &lt;int&gt; | logcarat &lt;dbl&gt; | color_ord &lt;dbl&gt; | newpred1 &lt;dbl&gt; | pred1price &lt;dbl&gt; |\n",
       "|---|---|---|---|---|---|---|---|---|---|\n",
       "| 1.22 | Premium   | 4 | G | SI1  | 3 | 0.7975072 | 4 | 8.708992 | 6056.1341 |\n",
       "| 1.01 | Good      | 2 | G | VS2  | 5 | 0.6981347 | 4 | 8.438363 | 4619.9860 |\n",
       "| 0.71 | Very Good | 3 | I | VS2  | 5 | 0.5364934 | 2 | 7.572909 | 1943.7900 |\n",
       "| 1.01 | Ideal     | 5 | D | SI2  | 2 | 0.6981347 | 7 | 8.450530 | 4676.5531 |\n",
       "| 0.27 | Ideal     | 5 | H | VVS2 | 6 | 0.2390169 | 3 | 6.508661 |  669.9277 |\n",
       "| 0.52 | Premium   | 4 | G | VS1  | 4 | 0.4187103 | 4 | 7.144623 | 1266.2741 |\n",
       "\n"
      ],
      "text/plain": [
       "  carat cut       cut_ord color clarity clarity_ord logcarat  color_ord\n",
       "1 1.22  Premium   4       G     SI1     3           0.7975072 4        \n",
       "2 1.01  Good      2       G     VS2     5           0.6981347 4        \n",
       "3 0.71  Very Good 3       I     VS2     5           0.5364934 2        \n",
       "4 1.01  Ideal     5       D     SI2     2           0.6981347 7        \n",
       "5 0.27  Ideal     5       H     VVS2    6           0.2390169 3        \n",
       "6 0.52  Premium   4       G     VS1     4           0.4187103 4        \n",
       "  newpred1 pred1price\n",
       "1 8.708992 6056.1341 \n",
       "2 8.438363 4619.9860 \n",
       "3 7.572909 1943.7900 \n",
       "4 8.450530 4676.5531 \n",
       "5 6.508661  669.9277 \n",
       "6 7.144623 1266.2741 "
      ]
     },
     "metadata": {},
     "output_type": "display_data"
    },
    {
     "name": "stdout",
     "output_type": "stream",
     "text": [
      "[1] \"Total predicted dollars in new diamond dataset: 12696482\"\n"
     ]
    }
   ],
   "source": [
    "new2$newpred1 <- model1 %>% predict(new2)\n",
    "new2$pred1price <- exp(new2$newpred1)-1\n",
    "head(new2)\n",
    "print(paste0(\"Total predicted dollars in new diamond dataset: \", \n",
    "             round(sum(new2$pred1price),0)))"
   ]
  },
  {
   "cell_type": "markdown",
   "metadata": {},
   "source": [
    "## Model 2"
   ]
  },
  {
   "cell_type": "markdown",
   "metadata": {},
   "source": [
    "### Split the data into training and test set"
   ]
  },
  {
   "cell_type": "code",
   "execution_count": 66,
   "metadata": {},
   "outputs": [
    {
     "data": {
      "text/html": [
       "<table>\n",
       "<caption>A data.frame: 5 × 20</caption>\n",
       "<thead>\n",
       "\t<tr><th></th><th scope=col>cut.Good</th><th scope=col>cut.Ideal</th><th scope=col>cut.Premium</th><th scope=col>cut.Very.Good</th><th scope=col>color.E</th><th scope=col>color.F</th><th scope=col>color.G</th><th scope=col>color.H</th><th scope=col>color.I</th><th scope=col>color.J</th><th scope=col>clarity.IF</th><th scope=col>clarity.SI1</th><th scope=col>clarity.SI2</th><th scope=col>clarity.VS1</th><th scope=col>clarity.VS2</th><th scope=col>clarity.VVS1</th><th scope=col>clarity.VVS2</th><th scope=col>logcarat</th><th scope=col>logprice</th><th scope=col>price</th></tr>\n",
       "\t<tr><th></th><th scope=col>&lt;dbl&gt;</th><th scope=col>&lt;dbl&gt;</th><th scope=col>&lt;dbl&gt;</th><th scope=col>&lt;dbl&gt;</th><th scope=col>&lt;dbl&gt;</th><th scope=col>&lt;dbl&gt;</th><th scope=col>&lt;dbl&gt;</th><th scope=col>&lt;dbl&gt;</th><th scope=col>&lt;dbl&gt;</th><th scope=col>&lt;dbl&gt;</th><th scope=col>&lt;dbl&gt;</th><th scope=col>&lt;dbl&gt;</th><th scope=col>&lt;dbl&gt;</th><th scope=col>&lt;dbl&gt;</th><th scope=col>&lt;dbl&gt;</th><th scope=col>&lt;dbl&gt;</th><th scope=col>&lt;dbl&gt;</th><th scope=col>&lt;dbl&gt;</th><th scope=col>&lt;dbl&gt;</th><th scope=col>&lt;dbl&gt;</th></tr>\n",
       "</thead>\n",
       "<tbody>\n",
       "\t<tr><th scope=row>1</th><td>0</td><td>1</td><td>0</td><td>0</td><td>1</td><td>0</td><td>0</td><td>0</td><td>0</td><td>0</td><td>0</td><td>0</td><td>1</td><td>0</td><td>0</td><td>0</td><td>0</td><td>0.2070142</td><td>5.789960</td><td>326</td></tr>\n",
       "\t<tr><th scope=row>2</th><td>0</td><td>0</td><td>1</td><td>0</td><td>1</td><td>0</td><td>0</td><td>0</td><td>0</td><td>0</td><td>0</td><td>1</td><td>0</td><td>0</td><td>0</td><td>0</td><td>0</td><td>0.1906204</td><td>5.789960</td><td>326</td></tr>\n",
       "\t<tr><th scope=row>5</th><td>1</td><td>0</td><td>0</td><td>0</td><td>0</td><td>0</td><td>0</td><td>0</td><td>0</td><td>1</td><td>0</td><td>0</td><td>1</td><td>0</td><td>0</td><td>0</td><td>0</td><td>0.2700271</td><td>5.817111</td><td>335</td></tr>\n",
       "\t<tr><th scope=row>6</th><td>0</td><td>0</td><td>0</td><td>1</td><td>0</td><td>0</td><td>0</td><td>0</td><td>0</td><td>1</td><td>0</td><td>0</td><td>0</td><td>0</td><td>0</td><td>0</td><td>1</td><td>0.2151114</td><td>5.820083</td><td>336</td></tr>\n",
       "\t<tr><th scope=row>7</th><td>0</td><td>0</td><td>0</td><td>1</td><td>0</td><td>0</td><td>0</td><td>0</td><td>1</td><td>0</td><td>0</td><td>0</td><td>0</td><td>0</td><td>0</td><td>1</td><td>0</td><td>0.2151114</td><td>5.820083</td><td>336</td></tr>\n",
       "</tbody>\n",
       "</table>\n"
      ],
      "text/latex": [
       "A data.frame: 5 × 20\n",
       "\\begin{tabular}{r|llllllllllllllllllll}\n",
       "  & cut.Good & cut.Ideal & cut.Premium & cut.Very.Good & color.E & color.F & color.G & color.H & color.I & color.J & clarity.IF & clarity.SI1 & clarity.SI2 & clarity.VS1 & clarity.VS2 & clarity.VVS1 & clarity.VVS2 & logcarat & logprice & price\\\\\n",
       "  & <dbl> & <dbl> & <dbl> & <dbl> & <dbl> & <dbl> & <dbl> & <dbl> & <dbl> & <dbl> & <dbl> & <dbl> & <dbl> & <dbl> & <dbl> & <dbl> & <dbl> & <dbl> & <dbl> & <dbl>\\\\\n",
       "\\hline\n",
       "\t1 & 0 & 1 & 0 & 0 & 1 & 0 & 0 & 0 & 0 & 0 & 0 & 0 & 1 & 0 & 0 & 0 & 0 & 0.2070142 & 5.789960 & 326\\\\\n",
       "\t2 & 0 & 0 & 1 & 0 & 1 & 0 & 0 & 0 & 0 & 0 & 0 & 1 & 0 & 0 & 0 & 0 & 0 & 0.1906204 & 5.789960 & 326\\\\\n",
       "\t5 & 1 & 0 & 0 & 0 & 0 & 0 & 0 & 0 & 0 & 1 & 0 & 0 & 1 & 0 & 0 & 0 & 0 & 0.2700271 & 5.817111 & 335\\\\\n",
       "\t6 & 0 & 0 & 0 & 1 & 0 & 0 & 0 & 0 & 0 & 1 & 0 & 0 & 0 & 0 & 0 & 0 & 1 & 0.2151114 & 5.820083 & 336\\\\\n",
       "\t7 & 0 & 0 & 0 & 1 & 0 & 0 & 0 & 0 & 1 & 0 & 0 & 0 & 0 & 0 & 0 & 1 & 0 & 0.2151114 & 5.820083 & 336\\\\\n",
       "\\end{tabular}\n"
      ],
      "text/markdown": [
       "\n",
       "A data.frame: 5 × 20\n",
       "\n",
       "| <!--/--> | cut.Good &lt;dbl&gt; | cut.Ideal &lt;dbl&gt; | cut.Premium &lt;dbl&gt; | cut.Very.Good &lt;dbl&gt; | color.E &lt;dbl&gt; | color.F &lt;dbl&gt; | color.G &lt;dbl&gt; | color.H &lt;dbl&gt; | color.I &lt;dbl&gt; | color.J &lt;dbl&gt; | clarity.IF &lt;dbl&gt; | clarity.SI1 &lt;dbl&gt; | clarity.SI2 &lt;dbl&gt; | clarity.VS1 &lt;dbl&gt; | clarity.VS2 &lt;dbl&gt; | clarity.VVS1 &lt;dbl&gt; | clarity.VVS2 &lt;dbl&gt; | logcarat &lt;dbl&gt; | logprice &lt;dbl&gt; | price &lt;dbl&gt; |\n",
       "|---|---|---|---|---|---|---|---|---|---|---|---|---|---|---|---|---|---|---|---|---|\n",
       "| 1 | 0 | 1 | 0 | 0 | 1 | 0 | 0 | 0 | 0 | 0 | 0 | 0 | 1 | 0 | 0 | 0 | 0 | 0.2070142 | 5.789960 | 326 |\n",
       "| 2 | 0 | 0 | 1 | 0 | 1 | 0 | 0 | 0 | 0 | 0 | 0 | 1 | 0 | 0 | 0 | 0 | 0 | 0.1906204 | 5.789960 | 326 |\n",
       "| 5 | 1 | 0 | 0 | 0 | 0 | 0 | 0 | 0 | 0 | 1 | 0 | 0 | 1 | 0 | 0 | 0 | 0 | 0.2700271 | 5.817111 | 335 |\n",
       "| 6 | 0 | 0 | 0 | 1 | 0 | 0 | 0 | 0 | 0 | 1 | 0 | 0 | 0 | 0 | 0 | 0 | 1 | 0.2151114 | 5.820083 | 336 |\n",
       "| 7 | 0 | 0 | 0 | 1 | 0 | 0 | 0 | 0 | 1 | 0 | 0 | 0 | 0 | 0 | 0 | 1 | 0 | 0.2151114 | 5.820083 | 336 |\n",
       "\n"
      ],
      "text/plain": [
       "  cut.Good cut.Ideal cut.Premium cut.Very.Good color.E color.F color.G color.H\n",
       "1 0        1         0           0             1       0       0       0      \n",
       "2 0        0         1           0             1       0       0       0      \n",
       "5 1        0         0           0             0       0       0       0      \n",
       "6 0        0         0           1             0       0       0       0      \n",
       "7 0        0         0           1             0       0       0       0      \n",
       "  color.I color.J clarity.IF clarity.SI1 clarity.SI2 clarity.VS1 clarity.VS2\n",
       "1 0       0       0          0           1           0           0          \n",
       "2 0       0       0          1           0           0           0          \n",
       "5 0       1       0          0           1           0           0          \n",
       "6 0       1       0          0           0           0           0          \n",
       "7 1       0       0          0           0           0           0          \n",
       "  clarity.VVS1 clarity.VVS2 logcarat  logprice price\n",
       "1 0            0            0.2070142 5.789960 326  \n",
       "2 0            0            0.1906204 5.789960 326  \n",
       "5 0            0            0.2700271 5.817111 335  \n",
       "6 0            1            0.2151114 5.820083 336  \n",
       "7 1            0            0.2151114 5.820083 336  "
      ]
     },
     "metadata": {},
     "output_type": "display_data"
    }
   ],
   "source": [
    "set.seed(123)\n",
    "training.samples2 <- my_data2$price %>%\n",
    "  createDataPartition(p=0.7, list=FALSE)\n",
    "train.data2 <- my_data2[training.samples2,]\n",
    "test.data2<- my_data2[-training.samples2,]\n",
    "\n",
    "head(train.data2,5)"
   ]
  },
  {
   "cell_type": "markdown",
   "metadata": {},
   "source": [
    "### Feature Selection"
   ]
  },
  {
   "cell_type": "code",
   "execution_count": 67,
   "metadata": {},
   "outputs": [
    {
     "data": {
      "text/plain": [
       "\n",
       "Call:\n",
       "lm(formula = logprice ~ logcarat + cut.Good + cut.Ideal + cut.Premium + \n",
       "    cut.Very.Good + color.E + color.F + color.G + color.H + color.I + \n",
       "    color.J + clarity.IF + clarity.SI1 + clarity.SI2 + clarity.VS1 + \n",
       "    clarity.VS2 + clarity.VVS1 + clarity.VVS2, data = train.data2)\n",
       "\n",
       "Residuals:\n",
       "     Min       1Q   Median       3Q      Max \n",
       "-1.89126 -0.13273  0.02888  0.13872  1.11378 \n",
       "\n",
       "Coefficients:\n",
       "               Estimate Std. Error t value Pr(>|t|)    \n",
       "(Intercept)    4.656062   0.011235  414.41   <2e-16 ***\n",
       "logcarat       4.449828   0.004995  890.81   <2e-16 ***\n",
       "cut.Good       0.059868   0.007187    8.33   <2e-16 ***\n",
       "cut.Ideal      0.122327   0.006550   18.68   <2e-16 ***\n",
       "cut.Premium    0.087624   0.006611   13.26   <2e-16 ***\n",
       "cut.Very.Good  0.080620   0.006682   12.06   <2e-16 ***\n",
       "color.E       -0.056894   0.003894  -14.61   <2e-16 ***\n",
       "color.F       -0.080252   0.003939  -20.37   <2e-16 ***\n",
       "color.G       -0.159458   0.003857  -41.34   <2e-16 ***\n",
       "color.H       -0.280546   0.004108  -68.30   <2e-16 ***\n",
       "color.I       -0.426066   0.004623  -92.17   <2e-16 ***\n",
       "color.J       -0.577772   0.005684 -101.66   <2e-16 ***\n",
       "clarity.IF     1.081616   0.011091   97.52   <2e-16 ***\n",
       "clarity.SI1    0.659981   0.009460   69.77   <2e-16 ***\n",
       "clarity.SI2    0.471412   0.009512   49.56   <2e-16 ***\n",
       "clarity.VS1    0.852368   0.009657   88.27   <2e-16 ***\n",
       "clarity.VS2    0.785031   0.009513   82.52   <2e-16 ***\n",
       "clarity.VVS1   0.995175   0.010240   97.18   <2e-16 ***\n",
       "clarity.VVS2   0.944652   0.009957   94.87   <2e-16 ***\n",
       "---\n",
       "Signif. codes:  0 '***' 0.001 '**' 0.01 '*' 0.05 '.' 0.1 ' ' 1\n",
       "\n",
       "Residual standard error: 0.2065 on 37626 degrees of freedom\n",
       "Multiple R-squared:  0.9585,\tAdjusted R-squared:  0.9585 \n",
       "F-statistic: 4.831e+04 on 18 and 37626 DF,  p-value: < 2.2e-16\n"
      ]
     },
     "metadata": {},
     "output_type": "display_data"
    }
   ],
   "source": [
    "# stepwise method one - uses both forward and backward\n",
    "m2.sel1 <- lm(logprice ~logcarat+cut.Good+cut.Ideal+cut.Premium+cut.Very.Good+\n",
    "                   color.E+color.F+color.G+color.H+color.I+color.J+\n",
    "                   clarity.IF+clarity.SI1+clarity.SI2+clarity.VS1+clarity.VS2+clarity.VVS1+clarity.VVS2, \n",
    "                 data = train.data2)\n",
    "\n",
    "# Stepwise regression model\n",
    "step.model21 <- stepAIC(m2.sel1, direction = \"both\", \n",
    "                      trace = FALSE)\n",
    "summary(step.model21)\n"
   ]
  },
  {
   "cell_type": "code",
   "execution_count": 68,
   "metadata": {},
   "outputs": [
    {
     "data": {
      "text/html": [
       "<table>\n",
       "<caption>A data.frame: 18 × 7</caption>\n",
       "<thead>\n",
       "\t<tr><th scope=col>nvmax</th><th scope=col>RMSE</th><th scope=col>Rsquared</th><th scope=col>MAE</th><th scope=col>RMSESD</th><th scope=col>RsquaredSD</th><th scope=col>MAESD</th></tr>\n",
       "\t<tr><th scope=col>&lt;int&gt;</th><th scope=col>&lt;dbl&gt;</th><th scope=col>&lt;dbl&gt;</th><th scope=col>&lt;dbl&gt;</th><th scope=col>&lt;dbl&gt;</th><th scope=col>&lt;dbl&gt;</th><th scope=col>&lt;dbl&gt;</th></tr>\n",
       "</thead>\n",
       "<tbody>\n",
       "\t<tr><td> 1</td><td>0.3048109</td><td>0.9095682</td><td>0.2356178</td><td>0.005464721</td><td>0.003233882</td><td>0.002298317</td></tr>\n",
       "\t<tr><td> 2</td><td>0.2935191</td><td>0.9161374</td><td>0.2252779</td><td>0.005772192</td><td>0.003327798</td><td>0.002519833</td></tr>\n",
       "\t<tr><td> 3</td><td>0.2825686</td><td>0.9222744</td><td>0.2156238</td><td>0.005708441</td><td>0.003191151</td><td>0.002624850</td></tr>\n",
       "\t<tr><td> 4</td><td>0.2769085</td><td>0.9253554</td><td>0.2126844</td><td>0.005599189</td><td>0.003101680</td><td>0.002540051</td></tr>\n",
       "\t<tr><td> 5</td><td>0.2702591</td><td>0.9288965</td><td>0.2079967</td><td>0.005070195</td><td>0.002771215</td><td>0.001955194</td></tr>\n",
       "\t<tr><td> 6</td><td>0.2639826</td><td>0.9321560</td><td>0.2024329</td><td>0.005450406</td><td>0.002907764</td><td>0.002112156</td></tr>\n",
       "\t<tr><td> 7</td><td>0.2547876</td><td>0.9367977</td><td>0.1940060</td><td>0.005496939</td><td>0.002808344</td><td>0.002459955</td></tr>\n",
       "\t<tr><td> 8</td><td>0.2414238</td><td>0.9432479</td><td>0.1857411</td><td>0.006084355</td><td>0.002907241</td><td>0.002438437</td></tr>\n",
       "\t<tr><td> 9</td><td>0.2310827</td><td>0.9480013</td><td>0.1782159</td><td>0.006011623</td><td>0.002707415</td><td>0.002252125</td></tr>\n",
       "\t<tr><td>10</td><td>0.2205288</td><td>0.9526408</td><td>0.1693081</td><td>0.005451061</td><td>0.002354407</td><td>0.001793032</td></tr>\n",
       "\t<tr><td>11</td><td>0.2131840</td><td>0.9557472</td><td>0.1657048</td><td>0.004238003</td><td>0.001738051</td><td>0.002168409</td></tr>\n",
       "\t<tr><td>12</td><td>0.2093513</td><td>0.9573219</td><td>0.1628134</td><td>0.004417083</td><td>0.001804727</td><td>0.002398486</td></tr>\n",
       "\t<tr><td>13</td><td>0.2081892</td><td>0.9577958</td><td>0.1622236</td><td>0.004216954</td><td>0.001712448</td><td>0.002309057</td></tr>\n",
       "\t<tr><td>14</td><td>0.2076032</td><td>0.9580340</td><td>0.1616634</td><td>0.004229899</td><td>0.001707233</td><td>0.002302502</td></tr>\n",
       "\t<tr><td>15</td><td>0.2070269</td><td>0.9582669</td><td>0.1612317</td><td>0.004225928</td><td>0.001708006</td><td>0.002255368</td></tr>\n",
       "\t<tr><td>16</td><td>0.2069016</td><td>0.9583174</td><td>0.1610400</td><td>0.004180118</td><td>0.001688416</td><td>0.002255357</td></tr>\n",
       "\t<tr><td>17</td><td>0.2066786</td><td>0.9584072</td><td>0.1608653</td><td>0.004149839</td><td>0.001673532</td><td>0.002203210</td></tr>\n",
       "\t<tr><td>18</td><td>0.2064935</td><td>0.9584819</td><td>0.1607290</td><td>0.004113491</td><td>0.001659317</td><td>0.002228037</td></tr>\n",
       "</tbody>\n",
       "</table>\n"
      ],
      "text/latex": [
       "A data.frame: 18 × 7\n",
       "\\begin{tabular}{r|lllllll}\n",
       " nvmax & RMSE & Rsquared & MAE & RMSESD & RsquaredSD & MAESD\\\\\n",
       " <int> & <dbl> & <dbl> & <dbl> & <dbl> & <dbl> & <dbl>\\\\\n",
       "\\hline\n",
       "\t  1 & 0.3048109 & 0.9095682 & 0.2356178 & 0.005464721 & 0.003233882 & 0.002298317\\\\\n",
       "\t  2 & 0.2935191 & 0.9161374 & 0.2252779 & 0.005772192 & 0.003327798 & 0.002519833\\\\\n",
       "\t  3 & 0.2825686 & 0.9222744 & 0.2156238 & 0.005708441 & 0.003191151 & 0.002624850\\\\\n",
       "\t  4 & 0.2769085 & 0.9253554 & 0.2126844 & 0.005599189 & 0.003101680 & 0.002540051\\\\\n",
       "\t  5 & 0.2702591 & 0.9288965 & 0.2079967 & 0.005070195 & 0.002771215 & 0.001955194\\\\\n",
       "\t  6 & 0.2639826 & 0.9321560 & 0.2024329 & 0.005450406 & 0.002907764 & 0.002112156\\\\\n",
       "\t  7 & 0.2547876 & 0.9367977 & 0.1940060 & 0.005496939 & 0.002808344 & 0.002459955\\\\\n",
       "\t  8 & 0.2414238 & 0.9432479 & 0.1857411 & 0.006084355 & 0.002907241 & 0.002438437\\\\\n",
       "\t  9 & 0.2310827 & 0.9480013 & 0.1782159 & 0.006011623 & 0.002707415 & 0.002252125\\\\\n",
       "\t 10 & 0.2205288 & 0.9526408 & 0.1693081 & 0.005451061 & 0.002354407 & 0.001793032\\\\\n",
       "\t 11 & 0.2131840 & 0.9557472 & 0.1657048 & 0.004238003 & 0.001738051 & 0.002168409\\\\\n",
       "\t 12 & 0.2093513 & 0.9573219 & 0.1628134 & 0.004417083 & 0.001804727 & 0.002398486\\\\\n",
       "\t 13 & 0.2081892 & 0.9577958 & 0.1622236 & 0.004216954 & 0.001712448 & 0.002309057\\\\\n",
       "\t 14 & 0.2076032 & 0.9580340 & 0.1616634 & 0.004229899 & 0.001707233 & 0.002302502\\\\\n",
       "\t 15 & 0.2070269 & 0.9582669 & 0.1612317 & 0.004225928 & 0.001708006 & 0.002255368\\\\\n",
       "\t 16 & 0.2069016 & 0.9583174 & 0.1610400 & 0.004180118 & 0.001688416 & 0.002255357\\\\\n",
       "\t 17 & 0.2066786 & 0.9584072 & 0.1608653 & 0.004149839 & 0.001673532 & 0.002203210\\\\\n",
       "\t 18 & 0.2064935 & 0.9584819 & 0.1607290 & 0.004113491 & 0.001659317 & 0.002228037\\\\\n",
       "\\end{tabular}\n"
      ],
      "text/markdown": [
       "\n",
       "A data.frame: 18 × 7\n",
       "\n",
       "| nvmax &lt;int&gt; | RMSE &lt;dbl&gt; | Rsquared &lt;dbl&gt; | MAE &lt;dbl&gt; | RMSESD &lt;dbl&gt; | RsquaredSD &lt;dbl&gt; | MAESD &lt;dbl&gt; |\n",
       "|---|---|---|---|---|---|---|\n",
       "|  1 | 0.3048109 | 0.9095682 | 0.2356178 | 0.005464721 | 0.003233882 | 0.002298317 |\n",
       "|  2 | 0.2935191 | 0.9161374 | 0.2252779 | 0.005772192 | 0.003327798 | 0.002519833 |\n",
       "|  3 | 0.2825686 | 0.9222744 | 0.2156238 | 0.005708441 | 0.003191151 | 0.002624850 |\n",
       "|  4 | 0.2769085 | 0.9253554 | 0.2126844 | 0.005599189 | 0.003101680 | 0.002540051 |\n",
       "|  5 | 0.2702591 | 0.9288965 | 0.2079967 | 0.005070195 | 0.002771215 | 0.001955194 |\n",
       "|  6 | 0.2639826 | 0.9321560 | 0.2024329 | 0.005450406 | 0.002907764 | 0.002112156 |\n",
       "|  7 | 0.2547876 | 0.9367977 | 0.1940060 | 0.005496939 | 0.002808344 | 0.002459955 |\n",
       "|  8 | 0.2414238 | 0.9432479 | 0.1857411 | 0.006084355 | 0.002907241 | 0.002438437 |\n",
       "|  9 | 0.2310827 | 0.9480013 | 0.1782159 | 0.006011623 | 0.002707415 | 0.002252125 |\n",
       "| 10 | 0.2205288 | 0.9526408 | 0.1693081 | 0.005451061 | 0.002354407 | 0.001793032 |\n",
       "| 11 | 0.2131840 | 0.9557472 | 0.1657048 | 0.004238003 | 0.001738051 | 0.002168409 |\n",
       "| 12 | 0.2093513 | 0.9573219 | 0.1628134 | 0.004417083 | 0.001804727 | 0.002398486 |\n",
       "| 13 | 0.2081892 | 0.9577958 | 0.1622236 | 0.004216954 | 0.001712448 | 0.002309057 |\n",
       "| 14 | 0.2076032 | 0.9580340 | 0.1616634 | 0.004229899 | 0.001707233 | 0.002302502 |\n",
       "| 15 | 0.2070269 | 0.9582669 | 0.1612317 | 0.004225928 | 0.001708006 | 0.002255368 |\n",
       "| 16 | 0.2069016 | 0.9583174 | 0.1610400 | 0.004180118 | 0.001688416 | 0.002255357 |\n",
       "| 17 | 0.2066786 | 0.9584072 | 0.1608653 | 0.004149839 | 0.001673532 | 0.002203210 |\n",
       "| 18 | 0.2064935 | 0.9584819 | 0.1607290 | 0.004113491 | 0.001659317 | 0.002228037 |\n",
       "\n"
      ],
      "text/plain": [
       "   nvmax RMSE      Rsquared  MAE       RMSESD      RsquaredSD  MAESD      \n",
       "1   1    0.3048109 0.9095682 0.2356178 0.005464721 0.003233882 0.002298317\n",
       "2   2    0.2935191 0.9161374 0.2252779 0.005772192 0.003327798 0.002519833\n",
       "3   3    0.2825686 0.9222744 0.2156238 0.005708441 0.003191151 0.002624850\n",
       "4   4    0.2769085 0.9253554 0.2126844 0.005599189 0.003101680 0.002540051\n",
       "5   5    0.2702591 0.9288965 0.2079967 0.005070195 0.002771215 0.001955194\n",
       "6   6    0.2639826 0.9321560 0.2024329 0.005450406 0.002907764 0.002112156\n",
       "7   7    0.2547876 0.9367977 0.1940060 0.005496939 0.002808344 0.002459955\n",
       "8   8    0.2414238 0.9432479 0.1857411 0.006084355 0.002907241 0.002438437\n",
       "9   9    0.2310827 0.9480013 0.1782159 0.006011623 0.002707415 0.002252125\n",
       "10 10    0.2205288 0.9526408 0.1693081 0.005451061 0.002354407 0.001793032\n",
       "11 11    0.2131840 0.9557472 0.1657048 0.004238003 0.001738051 0.002168409\n",
       "12 12    0.2093513 0.9573219 0.1628134 0.004417083 0.001804727 0.002398486\n",
       "13 13    0.2081892 0.9577958 0.1622236 0.004216954 0.001712448 0.002309057\n",
       "14 14    0.2076032 0.9580340 0.1616634 0.004229899 0.001707233 0.002302502\n",
       "15 15    0.2070269 0.9582669 0.1612317 0.004225928 0.001708006 0.002255368\n",
       "16 16    0.2069016 0.9583174 0.1610400 0.004180118 0.001688416 0.002255357\n",
       "17 17    0.2066786 0.9584072 0.1608653 0.004149839 0.001673532 0.002203210\n",
       "18 18    0.2064935 0.9584819 0.1607290 0.004113491 0.001659317 0.002228037"
      ]
     },
     "metadata": {},
     "output_type": "display_data"
    },
    {
     "data": {
      "text/html": [
       "<table>\n",
       "<caption>A data.frame: 1 × 1</caption>\n",
       "<thead>\n",
       "\t<tr><th></th><th scope=col>nvmax</th></tr>\n",
       "\t<tr><th></th><th scope=col>&lt;int&gt;</th></tr>\n",
       "</thead>\n",
       "<tbody>\n",
       "\t<tr><th scope=row>18</th><td>18</td></tr>\n",
       "</tbody>\n",
       "</table>\n"
      ],
      "text/latex": [
       "A data.frame: 1 × 1\n",
       "\\begin{tabular}{r|l}\n",
       "  & nvmax\\\\\n",
       "  & <int>\\\\\n",
       "\\hline\n",
       "\t18 & 18\\\\\n",
       "\\end{tabular}\n"
      ],
      "text/markdown": [
       "\n",
       "A data.frame: 1 × 1\n",
       "\n",
       "| <!--/--> | nvmax &lt;int&gt; |\n",
       "|---|---|\n",
       "| 18 | 18 |\n",
       "\n"
      ],
      "text/plain": [
       "   nvmax\n",
       "18 18   "
      ]
     },
     "metadata": {},
     "output_type": "display_data"
    },
    {
     "data": {
      "text/plain": [
       "Subset selection object\n",
       "18 Variables  (and intercept)\n",
       "              Forced in Forced out\n",
       "logcarat          FALSE      FALSE\n",
       "cut.Good          FALSE      FALSE\n",
       "cut.Ideal         FALSE      FALSE\n",
       "cut.Premium       FALSE      FALSE\n",
       "cut.Very.Good     FALSE      FALSE\n",
       "color.E           FALSE      FALSE\n",
       "color.F           FALSE      FALSE\n",
       "color.G           FALSE      FALSE\n",
       "color.H           FALSE      FALSE\n",
       "color.I           FALSE      FALSE\n",
       "color.J           FALSE      FALSE\n",
       "clarity.IF        FALSE      FALSE\n",
       "clarity.SI1       FALSE      FALSE\n",
       "clarity.SI2       FALSE      FALSE\n",
       "clarity.VS1       FALSE      FALSE\n",
       "clarity.VS2       FALSE      FALSE\n",
       "clarity.VVS1      FALSE      FALSE\n",
       "clarity.VVS2      FALSE      FALSE\n",
       "1 subsets of each size up to 18\n",
       "Selection Algorithm: backward\n",
       "          logcarat cut.Good cut.Ideal cut.Premium cut.Very.Good color.E color.F\n",
       "1  ( 1 )  \"*\"      \" \"      \" \"       \" \"         \" \"           \" \"     \" \"    \n",
       "2  ( 1 )  \"*\"      \" \"      \" \"       \" \"         \" \"           \" \"     \" \"    \n",
       "3  ( 1 )  \"*\"      \" \"      \" \"       \" \"         \" \"           \" \"     \" \"    \n",
       "4  ( 1 )  \"*\"      \" \"      \" \"       \" \"         \" \"           \" \"     \" \"    \n",
       "5  ( 1 )  \"*\"      \" \"      \" \"       \" \"         \" \"           \" \"     \" \"    \n",
       "6  ( 1 )  \"*\"      \" \"      \" \"       \" \"         \" \"           \" \"     \" \"    \n",
       "7  ( 1 )  \"*\"      \" \"      \" \"       \" \"         \" \"           \" \"     \" \"    \n",
       "8  ( 1 )  \"*\"      \" \"      \" \"       \" \"         \" \"           \" \"     \" \"    \n",
       "9  ( 1 )  \"*\"      \" \"      \" \"       \" \"         \" \"           \" \"     \" \"    \n",
       "10  ( 1 ) \"*\"      \" \"      \" \"       \" \"         \" \"           \" \"     \" \"    \n",
       "11  ( 1 ) \"*\"      \" \"      \" \"       \" \"         \" \"           \" \"     \" \"    \n",
       "12  ( 1 ) \"*\"      \" \"      \" \"       \" \"         \" \"           \" \"     \" \"    \n",
       "13  ( 1 ) \"*\"      \" \"      \"*\"       \" \"         \" \"           \" \"     \" \"    \n",
       "14  ( 1 ) \"*\"      \" \"      \"*\"       \" \"         \" \"           \" \"     \"*\"    \n",
       "15  ( 1 ) \"*\"      \" \"      \"*\"       \" \"         \" \"           \"*\"     \"*\"    \n",
       "16  ( 1 ) \"*\"      \" \"      \"*\"       \"*\"         \" \"           \"*\"     \"*\"    \n",
       "17  ( 1 ) \"*\"      \" \"      \"*\"       \"*\"         \"*\"           \"*\"     \"*\"    \n",
       "18  ( 1 ) \"*\"      \"*\"      \"*\"       \"*\"         \"*\"           \"*\"     \"*\"    \n",
       "          color.G color.H color.I color.J clarity.IF clarity.SI1 clarity.SI2\n",
       "1  ( 1 )  \" \"     \" \"     \" \"     \" \"     \" \"        \" \"         \" \"        \n",
       "2  ( 1 )  \" \"     \" \"     \" \"     \"*\"     \" \"        \" \"         \" \"        \n",
       "3  ( 1 )  \" \"     \" \"     \"*\"     \"*\"     \" \"        \" \"         \" \"        \n",
       "4  ( 1 )  \" \"     \" \"     \"*\"     \"*\"     \" \"        \" \"         \" \"        \n",
       "5  ( 1 )  \" \"     \" \"     \"*\"     \"*\"     \" \"        \" \"         \" \"        \n",
       "6  ( 1 )  \" \"     \" \"     \"*\"     \"*\"     \" \"        \" \"         \" \"        \n",
       "7  ( 1 )  \" \"     \" \"     \"*\"     \"*\"     \" \"        \" \"         \" \"        \n",
       "8  ( 1 )  \" \"     \" \"     \"*\"     \"*\"     \"*\"        \" \"         \" \"        \n",
       "9  ( 1 )  \" \"     \" \"     \"*\"     \"*\"     \"*\"        \"*\"         \" \"        \n",
       "10  ( 1 ) \" \"     \"*\"     \"*\"     \"*\"     \"*\"        \"*\"         \" \"        \n",
       "11  ( 1 ) \" \"     \"*\"     \"*\"     \"*\"     \"*\"        \"*\"         \"*\"        \n",
       "12  ( 1 ) \"*\"     \"*\"     \"*\"     \"*\"     \"*\"        \"*\"         \"*\"        \n",
       "13  ( 1 ) \"*\"     \"*\"     \"*\"     \"*\"     \"*\"        \"*\"         \"*\"        \n",
       "14  ( 1 ) \"*\"     \"*\"     \"*\"     \"*\"     \"*\"        \"*\"         \"*\"        \n",
       "15  ( 1 ) \"*\"     \"*\"     \"*\"     \"*\"     \"*\"        \"*\"         \"*\"        \n",
       "16  ( 1 ) \"*\"     \"*\"     \"*\"     \"*\"     \"*\"        \"*\"         \"*\"        \n",
       "17  ( 1 ) \"*\"     \"*\"     \"*\"     \"*\"     \"*\"        \"*\"         \"*\"        \n",
       "18  ( 1 ) \"*\"     \"*\"     \"*\"     \"*\"     \"*\"        \"*\"         \"*\"        \n",
       "          clarity.VS1 clarity.VS2 clarity.VVS1 clarity.VVS2\n",
       "1  ( 1 )  \" \"         \" \"         \" \"          \" \"         \n",
       "2  ( 1 )  \" \"         \" \"         \" \"          \" \"         \n",
       "3  ( 1 )  \" \"         \" \"         \" \"          \" \"         \n",
       "4  ( 1 )  \" \"         \" \"         \" \"          \"*\"         \n",
       "5  ( 1 )  \" \"         \" \"         \"*\"          \"*\"         \n",
       "6  ( 1 )  \"*\"         \" \"         \"*\"          \"*\"         \n",
       "7  ( 1 )  \"*\"         \"*\"         \"*\"          \"*\"         \n",
       "8  ( 1 )  \"*\"         \"*\"         \"*\"          \"*\"         \n",
       "9  ( 1 )  \"*\"         \"*\"         \"*\"          \"*\"         \n",
       "10  ( 1 ) \"*\"         \"*\"         \"*\"          \"*\"         \n",
       "11  ( 1 ) \"*\"         \"*\"         \"*\"          \"*\"         \n",
       "12  ( 1 ) \"*\"         \"*\"         \"*\"          \"*\"         \n",
       "13  ( 1 ) \"*\"         \"*\"         \"*\"          \"*\"         \n",
       "14  ( 1 ) \"*\"         \"*\"         \"*\"          \"*\"         \n",
       "15  ( 1 ) \"*\"         \"*\"         \"*\"          \"*\"         \n",
       "16  ( 1 ) \"*\"         \"*\"         \"*\"          \"*\"         \n",
       "17  ( 1 ) \"*\"         \"*\"         \"*\"          \"*\"         \n",
       "18  ( 1 ) \"*\"         \"*\"         \"*\"          \"*\"         "
      ]
     },
     "metadata": {},
     "output_type": "display_data"
    }
   ],
   "source": [
    "# Stepwise method two: Backward\n",
    "set.seed(123)\n",
    "# Set up repeated k-fold cross-validation\n",
    "train.control <- trainControl(method = \"cv\", number = 10)\n",
    "# Train the model\n",
    "step.model22 <- train(logprice ~logcarat+cut.Good+cut.Ideal+cut.Premium+cut.Very.Good+\n",
    "                      color.E+color.F+color.G+color.H+color.I+color.J+\n",
    "                      clarity.IF+clarity.SI1+clarity.SI2+clarity.VS1+clarity.VS2+clarity.VVS1+clarity.VVS2, \n",
    "                    data = train.data2,\n",
    "                    method = \"leapBackward\", \n",
    "                    tuneGrid = data.frame(nvmax = 1:18),\n",
    "                    trControl = train.control\n",
    ")\n",
    "step.model22$results\n",
    "step.model22$bestTune\n",
    "summary(step.model22$finalModel)"
   ]
  },
  {
   "cell_type": "markdown",
   "metadata": {},
   "source": [
    "### Model2 training"
   ]
  },
  {
   "cell_type": "code",
   "execution_count": 69,
   "metadata": {},
   "outputs": [
    {
     "data": {
      "text/plain": [
       "\n",
       "Call:\n",
       "lm(formula = logprice ~ logcarat + cut.Good + cut.Ideal + cut.Premium + \n",
       "    cut.Very.Good + color.E + color.F + color.G + color.H + color.I + \n",
       "    color.J + clarity.IF + clarity.SI1 + clarity.SI2 + clarity.VS1 + \n",
       "    clarity.VS2 + clarity.VVS1 + clarity.VVS2, data = train.data2)\n",
       "\n",
       "Residuals:\n",
       "     Min       1Q   Median       3Q      Max \n",
       "-1.89126 -0.13273  0.02888  0.13872  1.11378 \n",
       "\n",
       "Coefficients:\n",
       "               Estimate Std. Error t value Pr(>|t|)    \n",
       "(Intercept)    4.656062   0.011235  414.41   <2e-16 ***\n",
       "logcarat       4.449828   0.004995  890.81   <2e-16 ***\n",
       "cut.Good       0.059868   0.007187    8.33   <2e-16 ***\n",
       "cut.Ideal      0.122327   0.006550   18.68   <2e-16 ***\n",
       "cut.Premium    0.087624   0.006611   13.26   <2e-16 ***\n",
       "cut.Very.Good  0.080620   0.006682   12.06   <2e-16 ***\n",
       "color.E       -0.056894   0.003894  -14.61   <2e-16 ***\n",
       "color.F       -0.080252   0.003939  -20.37   <2e-16 ***\n",
       "color.G       -0.159458   0.003857  -41.34   <2e-16 ***\n",
       "color.H       -0.280546   0.004108  -68.30   <2e-16 ***\n",
       "color.I       -0.426066   0.004623  -92.17   <2e-16 ***\n",
       "color.J       -0.577772   0.005684 -101.66   <2e-16 ***\n",
       "clarity.IF     1.081616   0.011091   97.52   <2e-16 ***\n",
       "clarity.SI1    0.659981   0.009460   69.77   <2e-16 ***\n",
       "clarity.SI2    0.471412   0.009512   49.56   <2e-16 ***\n",
       "clarity.VS1    0.852368   0.009657   88.27   <2e-16 ***\n",
       "clarity.VS2    0.785031   0.009513   82.52   <2e-16 ***\n",
       "clarity.VVS1   0.995175   0.010240   97.18   <2e-16 ***\n",
       "clarity.VVS2   0.944652   0.009957   94.87   <2e-16 ***\n",
       "---\n",
       "Signif. codes:  0 '***' 0.001 '**' 0.01 '*' 0.05 '.' 0.1 ' ' 1\n",
       "\n",
       "Residual standard error: 0.2065 on 37626 degrees of freedom\n",
       "Multiple R-squared:  0.9585,\tAdjusted R-squared:  0.9585 \n",
       "F-statistic: 4.831e+04 on 18 and 37626 DF,  p-value: < 2.2e-16\n"
      ]
     },
     "metadata": {},
     "output_type": "display_data"
    }
   ],
   "source": [
    "model2 <- lm(logprice ~logcarat+cut.Good+cut.Ideal+cut.Premium+cut.Very.Good+\n",
    "               color.E+color.F+color.G+color.H+color.I+color.J+\n",
    "               clarity.IF+clarity.SI1+clarity.SI2+clarity.VS1+clarity.VS2+clarity.VVS1+clarity.VVS2, \n",
    "             data=train.data2)\n",
    "summary(model2)"
   ]
  },
  {
   "cell_type": "markdown",
   "metadata": {},
   "source": [
    "### Model2 validation"
   ]
  },
  {
   "cell_type": "code",
   "execution_count": 70,
   "metadata": {},
   "outputs": [],
   "source": [
    "# Apply model2 to testing/validation dataset\n",
    "test.data2$pred2 <- model2 %>% predict(test.data2)"
   ]
  },
  {
   "cell_type": "code",
   "execution_count": 72,
   "metadata": {},
   "outputs": [
    {
     "name": "stdout",
     "output_type": "stream",
     "text": [
      "[1] \"Model2 RMSE: 0.2103\"\n"
     ]
    }
   ],
   "source": [
    "# (a) Prediction error, RMSE\n",
    "print(paste0(\"Model2 RMSE: \", round(RMSE(test.data2$pred2, test.data2$logprice),4)))\n"
   ]
  },
  {
   "cell_type": "code",
   "execution_count": 73,
   "metadata": {},
   "outputs": [
    {
     "name": "stdout",
     "output_type": "stream",
     "text": [
      "[1] \"Model2 R Square: 0.957\"\n"
     ]
    }
   ],
   "source": [
    "# (b) Prediction R square\n",
    "print(paste0(\"Model2 R Square: \", round(R2(test.data2$pred2, test.data2$logprice),4)))\n"
   ]
  },
  {
   "cell_type": "code",
   "execution_count": 80,
   "metadata": {},
   "outputs": [
    {
     "name": "stdout",
     "output_type": "stream",
     "text": [
      "[1] \"Model2 dollar residual: 256\"\n"
     ]
    }
   ],
   "source": [
    "# (c) Average residuals between predicted and actual price\n",
    "test.data2$rs2 <- exp(test.data2$pred2)-1-test.data2$price\n",
    "print(paste0(\"Model2 dollar residual: \", round(mean(test.data2$rs2),1)))\n"
   ]
  },
  {
   "cell_type": "markdown",
   "metadata": {},
   "source": [
    "### Model2 prediction in new diamond dataset"
   ]
  },
  {
   "cell_type": "code",
   "execution_count": 81,
   "metadata": {},
   "outputs": [
    {
     "data": {
      "text/html": [
       "<table>\n",
       "<caption>A data.frame: 6 × 24</caption>\n",
       "<thead>\n",
       "\t<tr><th scope=col>carat</th><th scope=col>cut.Good</th><th scope=col>cut.Ideal</th><th scope=col>cut.Premium</th><th scope=col>cut.Very.Good</th><th scope=col>cut_ord</th><th scope=col>color.E</th><th scope=col>color.F</th><th scope=col>color.G</th><th scope=col>color.H</th><th scope=col>...</th><th scope=col>clarity.SI2</th><th scope=col>clarity.VS1</th><th scope=col>clarity.VS2</th><th scope=col>clarity.VVS1</th><th scope=col>clarity.VVS2</th><th scope=col>clarity_ord</th><th scope=col>logcarat</th><th scope=col>color_ord</th><th scope=col>newpred2</th><th scope=col>pred2price</th></tr>\n",
       "\t<tr><th scope=col>&lt;dbl&gt;</th><th scope=col>&lt;dbl&gt;</th><th scope=col>&lt;dbl&gt;</th><th scope=col>&lt;dbl&gt;</th><th scope=col>&lt;dbl&gt;</th><th scope=col>&lt;dbl&gt;</th><th scope=col>&lt;dbl&gt;</th><th scope=col>&lt;dbl&gt;</th><th scope=col>&lt;dbl&gt;</th><th scope=col>&lt;dbl&gt;</th><th scope=col>...</th><th scope=col>&lt;dbl&gt;</th><th scope=col>&lt;dbl&gt;</th><th scope=col>&lt;dbl&gt;</th><th scope=col>&lt;dbl&gt;</th><th scope=col>&lt;dbl&gt;</th><th scope=col>&lt;dbl&gt;</th><th scope=col>&lt;dbl&gt;</th><th scope=col>&lt;dbl&gt;</th><th scope=col>&lt;dbl&gt;</th><th scope=col>&lt;dbl&gt;</th></tr>\n",
       "</thead>\n",
       "<tbody>\n",
       "\t<tr><td>1.22</td><td>0</td><td>0</td><td>1</td><td>0</td><td>4</td><td>0</td><td>0</td><td>1</td><td>0</td><td>...</td><td>0</td><td>0</td><td>0</td><td>0</td><td>0</td><td>3</td><td>0.7975072</td><td>4</td><td>8.792980</td><td>6586.8326</td></tr>\n",
       "\t<tr><td>1.01</td><td>1</td><td>0</td><td>0</td><td>0</td><td>2</td><td>0</td><td>0</td><td>1</td><td>0</td><td>...</td><td>0</td><td>0</td><td>1</td><td>0</td><td>0</td><td>5</td><td>0.6981347</td><td>4</td><td>8.448083</td><td>4665.1189</td></tr>\n",
       "\t<tr><td>0.71</td><td>0</td><td>0</td><td>0</td><td>1</td><td>3</td><td>0</td><td>0</td><td>0</td><td>0</td><td>...</td><td>0</td><td>0</td><td>1</td><td>0</td><td>0</td><td>5</td><td>0.5364934</td><td>2</td><td>7.482951</td><td>1776.4791</td></tr>\n",
       "\t<tr><td>1.01</td><td>0</td><td>1</td><td>0</td><td>0</td><td>5</td><td>0</td><td>0</td><td>0</td><td>0</td><td>...</td><td>1</td><td>0</td><td>0</td><td>0</td><td>0</td><td>2</td><td>0.6981347</td><td>7</td><td>8.356380</td><td>4256.2573</td></tr>\n",
       "\t<tr><td>0.27</td><td>0</td><td>1</td><td>0</td><td>0</td><td>5</td><td>0</td><td>0</td><td>0</td><td>1</td><td>...</td><td>0</td><td>0</td><td>0</td><td>0</td><td>1</td><td>6</td><td>0.2390169</td><td>3</td><td>6.506079</td><td> 668.1973</td></tr>\n",
       "\t<tr><td>0.52</td><td>0</td><td>0</td><td>1</td><td>0</td><td>4</td><td>0</td><td>0</td><td>1</td><td>0</td><td>...</td><td>0</td><td>1</td><td>0</td><td>0</td><td>0</td><td>4</td><td>0.4187103</td><td>4</td><td>7.299785</td><td>1478.9822</td></tr>\n",
       "</tbody>\n",
       "</table>\n"
      ],
      "text/latex": [
       "A data.frame: 6 × 24\n",
       "\\begin{tabular}{r|llllllllllllllllllllllll}\n",
       " carat & cut.Good & cut.Ideal & cut.Premium & cut.Very.Good & cut\\_ord & color.E & color.F & color.G & color.H & color.I & color.J & clarity.IF & clarity.SI1 & clarity.SI2 & clarity.VS1 & clarity.VS2 & clarity.VVS1 & clarity.VVS2 & clarity\\_ord & logcarat & color\\_ord & newpred2 & pred2price\\\\\n",
       " <dbl> & <dbl> & <dbl> & <dbl> & <dbl> & <dbl> & <dbl> & <dbl> & <dbl> & <dbl> & <dbl> & <dbl> & <dbl> & <dbl> & <dbl> & <dbl> & <dbl> & <dbl> & <dbl> & <dbl> & <dbl> & <dbl> & <dbl> & <dbl>\\\\\n",
       "\\hline\n",
       "\t 1.22 & 0 & 0 & 1 & 0 & 4 & 0 & 0 & 1 & 0 & 0 & 0 & 0 & 1 & 0 & 0 & 0 & 0 & 0 & 3 & 0.7975072 & 4 & 8.792980 & 6586.8326\\\\\n",
       "\t 1.01 & 1 & 0 & 0 & 0 & 2 & 0 & 0 & 1 & 0 & 0 & 0 & 0 & 0 & 0 & 0 & 1 & 0 & 0 & 5 & 0.6981347 & 4 & 8.448083 & 4665.1189\\\\\n",
       "\t 0.71 & 0 & 0 & 0 & 1 & 3 & 0 & 0 & 0 & 0 & 1 & 0 & 0 & 0 & 0 & 0 & 1 & 0 & 0 & 5 & 0.5364934 & 2 & 7.482951 & 1776.4791\\\\\n",
       "\t 1.01 & 0 & 1 & 0 & 0 & 5 & 0 & 0 & 0 & 0 & 0 & 0 & 0 & 0 & 1 & 0 & 0 & 0 & 0 & 2 & 0.6981347 & 7 & 8.356380 & 4256.2573\\\\\n",
       "\t 0.27 & 0 & 1 & 0 & 0 & 5 & 0 & 0 & 0 & 1 & 0 & 0 & 0 & 0 & 0 & 0 & 0 & 0 & 1 & 6 & 0.2390169 & 3 & 6.506079 &  668.1973\\\\\n",
       "\t 0.52 & 0 & 0 & 1 & 0 & 4 & 0 & 0 & 1 & 0 & 0 & 0 & 0 & 0 & 0 & 1 & 0 & 0 & 0 & 4 & 0.4187103 & 4 & 7.299785 & 1478.9822\\\\\n",
       "\\end{tabular}\n"
      ],
      "text/markdown": [
       "\n",
       "A data.frame: 6 × 24\n",
       "\n",
       "| carat &lt;dbl&gt; | cut.Good &lt;dbl&gt; | cut.Ideal &lt;dbl&gt; | cut.Premium &lt;dbl&gt; | cut.Very.Good &lt;dbl&gt; | cut_ord &lt;dbl&gt; | color.E &lt;dbl&gt; | color.F &lt;dbl&gt; | color.G &lt;dbl&gt; | color.H &lt;dbl&gt; | ... ... | clarity.SI2 &lt;dbl&gt; | clarity.VS1 &lt;dbl&gt; | clarity.VS2 &lt;dbl&gt; | clarity.VVS1 &lt;dbl&gt; | clarity.VVS2 &lt;dbl&gt; | clarity_ord &lt;dbl&gt; | logcarat &lt;dbl&gt; | color_ord &lt;dbl&gt; | newpred2 &lt;dbl&gt; | pred2price &lt;dbl&gt; |\n",
       "|---|---|---|---|---|---|---|---|---|---|---|---|---|---|---|---|---|---|---|---|---|\n",
       "| 1.22 | 0 | 0 | 1 | 0 | 4 | 0 | 0 | 1 | 0 | ... | 0 | 0 | 0 | 0 | 0 | 3 | 0.7975072 | 4 | 8.792980 | 6586.8326 |\n",
       "| 1.01 | 1 | 0 | 0 | 0 | 2 | 0 | 0 | 1 | 0 | ... | 0 | 0 | 1 | 0 | 0 | 5 | 0.6981347 | 4 | 8.448083 | 4665.1189 |\n",
       "| 0.71 | 0 | 0 | 0 | 1 | 3 | 0 | 0 | 0 | 0 | ... | 0 | 0 | 1 | 0 | 0 | 5 | 0.5364934 | 2 | 7.482951 | 1776.4791 |\n",
       "| 1.01 | 0 | 1 | 0 | 0 | 5 | 0 | 0 | 0 | 0 | ... | 1 | 0 | 0 | 0 | 0 | 2 | 0.6981347 | 7 | 8.356380 | 4256.2573 |\n",
       "| 0.27 | 0 | 1 | 0 | 0 | 5 | 0 | 0 | 0 | 1 | ... | 0 | 0 | 0 | 0 | 1 | 6 | 0.2390169 | 3 | 6.506079 |  668.1973 |\n",
       "| 0.52 | 0 | 0 | 1 | 0 | 4 | 0 | 0 | 1 | 0 | ... | 0 | 1 | 0 | 0 | 0 | 4 | 0.4187103 | 4 | 7.299785 | 1478.9822 |\n",
       "\n"
      ],
      "text/plain": [
       "  carat cut.Good cut.Ideal cut.Premium cut.Very.Good cut_ord color.E color.F\n",
       "1 1.22  0        0         1           0             4       0       0      \n",
       "2 1.01  1        0         0           0             2       0       0      \n",
       "3 0.71  0        0         0           1             3       0       0      \n",
       "4 1.01  0        1         0           0             5       0       0      \n",
       "5 0.27  0        1         0           0             5       0       0      \n",
       "6 0.52  0        0         1           0             4       0       0      \n",
       "  color.G color.H ... clarity.SI2 clarity.VS1 clarity.VS2 clarity.VVS1\n",
       "1 1       0       ... 0           0           0           0           \n",
       "2 1       0       ... 0           0           1           0           \n",
       "3 0       0       ... 0           0           1           0           \n",
       "4 0       0       ... 1           0           0           0           \n",
       "5 0       1       ... 0           0           0           0           \n",
       "6 1       0       ... 0           1           0           0           \n",
       "  clarity.VVS2 clarity_ord logcarat  color_ord newpred2 pred2price\n",
       "1 0            3           0.7975072 4         8.792980 6586.8326 \n",
       "2 0            5           0.6981347 4         8.448083 4665.1189 \n",
       "3 0            5           0.5364934 2         7.482951 1776.4791 \n",
       "4 0            2           0.6981347 7         8.356380 4256.2573 \n",
       "5 1            6           0.2390169 3         6.506079  668.1973 \n",
       "6 0            4           0.4187103 4         7.299785 1478.9822 "
      ]
     },
     "metadata": {},
     "output_type": "display_data"
    },
    {
     "name": "stdout",
     "output_type": "stream",
     "text": [
      "[1] \"Total predicted dollars in new diamond dataset: 12550854\"\n"
     ]
    }
   ],
   "source": [
    "dmy_new2$newpred2 <- model2 %>% predict(dmy_new2)\n",
    "dmy_new2$pred2price <- exp(dmy_new2$newpred2)-1\n",
    "head(dmy_new2)\n",
    "print(paste0(\"Total predicted dollars in new diamond dataset: \", round(sum(dmy_new2$pred2price),0)))\n"
   ]
  },
  {
   "cell_type": "markdown",
   "metadata": {},
   "source": [
    "## Model 3"
   ]
  },
  {
   "cell_type": "markdown",
   "metadata": {},
   "source": [
    "### Model3 training"
   ]
  },
  {
   "cell_type": "code",
   "execution_count": 82,
   "metadata": {},
   "outputs": [
    {
     "data": {
      "text/plain": [
       "\n",
       "Call:\n",
       "lm(formula = logprice ~ logcarat + cut + clarity + color + logcarat * \n",
       "    cut + logcarat * clarity + logcarat * color + cut * clarity + \n",
       "    cut * color + clarity * color, data = train.data1)\n",
       "\n",
       "Residuals:\n",
       "     Min       1Q   Median       3Q      Max \n",
       "-1.19879 -0.10088  0.02214  0.11958  1.09638 \n",
       "\n",
       "Coefficients:\n",
       "                           Estimate Std. Error t value Pr(>|t|)    \n",
       "(Intercept)               5.4775757  0.0479166 114.315  < 2e-16 ***\n",
       "logcarat                  3.1338177  0.0384093  81.590  < 2e-16 ***\n",
       "cutGood                  -0.1853876  0.0382860  -4.842 1.29e-06 ***\n",
       "cutIdeal                  0.0527565  0.0350150   1.507 0.131901    \n",
       "cutPremium                0.0156392  0.0336542   0.465 0.642148    \n",
       "cutVery Good             -0.1054467  0.0377657  -2.792 0.005239 ** \n",
       "clarityIF                 0.4545827  0.0732362   6.207 5.45e-10 ***\n",
       "claritySI1               -0.1107498  0.0432311  -2.562 0.010417 *  \n",
       "claritySI2               -0.0061489  0.0434938  -0.141 0.887575    \n",
       "clarityVS1               -0.0785067  0.0451575  -1.739 0.082129 .  \n",
       "clarityVS2               -0.0393548  0.0439710  -0.895 0.370784    \n",
       "clarityVVS1               0.1094074  0.0628928   1.740 0.081940 .  \n",
       "clarityVVS2               0.0395964  0.0491474   0.806 0.420441    \n",
       "colorE                   -0.0148064  0.0441639  -0.335 0.737430    \n",
       "colorF                    0.0673601  0.0417226   1.614 0.106433    \n",
       "colorG                    0.1935844  0.0422922   4.577 4.73e-06 ***\n",
       "colorH                    0.4027940  0.0420126   9.587  < 2e-16 ***\n",
       "colorI                    0.5809041  0.0449466  12.924  < 2e-16 ***\n",
       "colorJ                    0.7730522  0.0511586  15.111  < 2e-16 ***\n",
       "logcarat:cutGood          0.4846130  0.0299841  16.162  < 2e-16 ***\n",
       "logcarat:cutIdeal         0.5436515  0.0276997  19.627  < 2e-16 ***\n",
       "logcarat:cutPremium       0.2729598  0.0277182   9.848  < 2e-16 ***\n",
       "logcarat:cutVery Good     0.5293365  0.0281515  18.803  < 2e-16 ***\n",
       "logcarat:clarityIF        1.7459670  0.0427211  40.869  < 2e-16 ***\n",
       "logcarat:claritySI1       1.2508103  0.0331286  37.756  < 2e-16 ***\n",
       "logcarat:claritySI2       0.6974069  0.0333754  20.896  < 2e-16 ***\n",
       "logcarat:clarityVS1       1.6099306  0.0337344  47.724  < 2e-16 ***\n",
       "logcarat:clarityVS2       1.4604232  0.0332735  43.891  < 2e-16 ***\n",
       "logcarat:clarityVVS1      1.8518924  0.0377435  49.065  < 2e-16 ***\n",
       "logcarat:clarityVVS2      1.7631055  0.0353336  49.899  < 2e-16 ***\n",
       "logcarat:colorE          -0.0389333  0.0172235  -2.260 0.023798 *  \n",
       "logcarat:colorF          -0.2141987  0.0168897 -12.682  < 2e-16 ***\n",
       "logcarat:colorG          -0.3944338  0.0159771 -24.687  < 2e-16 ***\n",
       "logcarat:colorH          -0.6464297  0.0163657 -39.499  < 2e-16 ***\n",
       "logcarat:colorI          -0.8524958  0.0171201 -49.795  < 2e-16 ***\n",
       "logcarat:colorJ          -1.0954439  0.0198092 -55.300  < 2e-16 ***\n",
       "cutGood:clarityIF         0.0526595  0.0677551   0.777 0.437044    \n",
       "cutIdeal:clarityIF       -0.0897337  0.0623017  -1.440 0.149788    \n",
       "cutPremium:clarityIF      0.0345742  0.0626131   0.552 0.580823    \n",
       "cutVery Good:clarityIF   -0.0071120  0.0643840  -0.110 0.912044    \n",
       "cutGood:claritySI1       -0.0797734  0.0281728  -2.832 0.004634 ** \n",
       "cutIdeal:claritySI1      -0.2182760  0.0252601  -8.641  < 2e-16 ***\n",
       "cutPremium:claritySI1    -0.0878941  0.0230617  -3.811 0.000138 ***\n",
       "cutVery Good:claritySI1  -0.1259833  0.0283814  -4.439 9.07e-06 ***\n",
       "cutGood:claritySI2       -0.0697308  0.0278556  -2.503 0.012308 *  \n",
       "cutIdeal:claritySI2      -0.2429448  0.0248454  -9.778  < 2e-16 ***\n",
       "cutPremium:claritySI2    -0.0874600  0.0225160  -3.884 0.000103 ***\n",
       "cutVery Good:claritySI2  -0.1294851  0.0279876  -4.627 3.73e-06 ***\n",
       "cutGood:clarityVS1       -0.0343769  0.0309827  -1.110 0.267199    \n",
       "cutIdeal:clarityVS1      -0.1674962  0.0277347  -6.039 1.56e-09 ***\n",
       "cutPremium:clarityVS1    -0.0686912  0.0258140  -2.661 0.007794 ** \n",
       "cutVery Good:clarityVS1  -0.1119306  0.0307190  -3.644 0.000269 ***\n",
       "cutGood:clarityVS2       -0.0529923  0.0295981  -1.790 0.073398 .  \n",
       "cutIdeal:clarityVS2      -0.2058498  0.0266091  -7.736 1.05e-14 ***\n",
       "cutPremium:clarityVS2    -0.0818017  0.0245530  -3.332 0.000864 ***\n",
       "cutVery Good:clarityVS2  -0.1315315  0.0296170  -4.441 8.98e-06 ***\n",
       "cutGood:clarityVVS1      -0.0765979  0.0542908  -1.411 0.158288    \n",
       "cutIdeal:clarityVVS1     -0.1669732  0.0510958  -3.268 0.001085 ** \n",
       "cutPremium:clarityVVS1   -0.0524917  0.0505477  -1.038 0.299063    \n",
       "cutVery Good:clarityVVS1 -0.1354233  0.0530610  -2.552 0.010708 *  \n",
       "cutGood:clarityVVS2      -0.0577682  0.0378313  -1.527 0.126771    \n",
       "cutIdeal:clarityVVS2     -0.2056638  0.0340260  -6.044 1.51e-09 ***\n",
       "cutPremium:clarityVVS2   -0.0782026  0.0328660  -2.379 0.017344 *  \n",
       "cutVery Good:clarityVVS2 -0.1623849  0.0366603  -4.429 9.47e-06 ***\n",
       "cutGood:colorE            0.0017121  0.0231914   0.074 0.941151    \n",
       "cutIdeal:colorE          -0.0247039  0.0215885  -1.144 0.252504    \n",
       "cutPremium:colorE        -0.0126798  0.0218414  -0.581 0.561554    \n",
       "cutVery Good:colorE      -0.0143405  0.0218781  -0.655 0.512169    \n",
       "cutGood:colorF            0.0008706  0.0222926   0.039 0.968848    \n",
       "cutIdeal:colorF          -0.0468432  0.0205638  -2.278 0.022736 *  \n",
       "cutPremium:colorF        -0.0170460  0.0208239  -0.819 0.413034    \n",
       "cutVery Good:colorF      -0.0139607  0.0209195  -0.667 0.504551    \n",
       "cutGood:colorG            0.0041075  0.0227063   0.181 0.856450    \n",
       "cutIdeal:colorG          -0.0784965  0.0208975  -3.756 0.000173 ***\n",
       "cutPremium:colorG        -0.0378409  0.0211126  -1.792 0.073087 .  \n",
       "cutVery Good:colorG      -0.0281490  0.0212585  -1.324 0.185467    \n",
       "cutGood:colorH           -0.0317779  0.0228683  -1.390 0.164656    \n",
       "cutIdeal:colorH          -0.1133197  0.0209711  -5.404 6.57e-08 ***\n",
       "cutPremium:colorH        -0.0713566  0.0211486  -3.374 0.000741 ***\n",
       "cutVery Good:colorH      -0.0672979  0.0213316  -3.155 0.001607 ** \n",
       "cutGood:colorI           -0.1019136  0.0260441  -3.913 9.13e-05 ***\n",
       "cutIdeal:colorI          -0.1734319  0.0239448  -7.243 4.47e-13 ***\n",
       "cutPremium:colorI        -0.1160077  0.0242005  -4.794 1.64e-06 ***\n",
       "cutVery Good:colorI      -0.0914439  0.0243665  -3.753 0.000175 ***\n",
       "cutGood:colorJ           -0.0856832  0.0293306  -2.921 0.003488 ** \n",
       "cutIdeal:colorJ          -0.1757934  0.0270023  -6.510 7.59e-11 ***\n",
       "cutPremium:colorJ        -0.1025740  0.0271113  -3.783 0.000155 ***\n",
       "cutVery Good:colorJ      -0.0796604  0.0272606  -2.922 0.003478 ** \n",
       "clarityIF:colorE         -0.3560681  0.0478806  -7.437 1.06e-13 ***\n",
       "claritySI1:colorE         0.0004852  0.0380472   0.013 0.989826    \n",
       "claritySI2:colorE         0.0374913  0.0381616   0.982 0.325892    \n",
       "clarityVS1:colorE        -0.0016819  0.0388585  -0.043 0.965476    \n",
       "clarityVS2:colorE        -0.0099681  0.0382427  -0.261 0.794361    \n",
       "clarityVVS1:colorE       -0.0819899  0.0405461  -2.022 0.043169 *  \n",
       "clarityVVS2:colorE       -0.0282472  0.0392914  -0.719 0.472198    \n",
       "clarityIF:colorF         -0.4387970  0.0447961  -9.795  < 2e-16 ***\n",
       "claritySI1:colorF        -0.0247984  0.0363559  -0.682 0.495180    \n",
       "claritySI2:colorF         0.0556066  0.0364657   1.525 0.127292    \n",
       "clarityVS1:colorF        -0.0387940  0.0371157  -1.045 0.295929    \n",
       "clarityVS2:colorF        -0.0607967  0.0365294  -1.664 0.096056 .  \n",
       "clarityVVS1:colorF       -0.1200369  0.0388257  -3.092 0.001992 ** \n",
       "clarityVVS2:colorF       -0.0555164  0.0376109  -1.476 0.139933    \n",
       "clarityIF:colorG         -0.5650119  0.0452256 -12.493  < 2e-16 ***\n",
       "claritySI1:colorG        -0.1150829  0.0373809  -3.079 0.002081 ** \n",
       "claritySI2:colorG        -0.0046405  0.0374852  -0.124 0.901479    \n",
       "clarityVS1:colorG        -0.1339812  0.0379608  -3.529 0.000417 ***\n",
       "clarityVS2:colorG        -0.1554955  0.0375184  -4.145 3.41e-05 ***\n",
       "clarityVVS1:colorG       -0.2528730  0.0395857  -6.388 1.70e-10 ***\n",
       "clarityVVS2:colorG       -0.1840221  0.0384138  -4.791 1.67e-06 ***\n",
       "clarityIF:colorH         -0.7615784  0.0457500 -16.647  < 2e-16 ***\n",
       "claritySI1:colorH        -0.1998524  0.0368241  -5.427 5.76e-08 ***\n",
       "claritySI2:colorH        -0.0225781  0.0369605  -0.611 0.541290    \n",
       "clarityVS1:colorH        -0.3244624  0.0376795  -8.611  < 2e-16 ***\n",
       "clarityVS2:colorH        -0.3245555  0.0371074  -8.746  < 2e-16 ***\n",
       "clarityVVS1:colorH       -0.4477515  0.0395516 -11.321  < 2e-16 ***\n",
       "clarityVVS2:colorH       -0.4108353  0.0384394 -10.688  < 2e-16 ***\n",
       "clarityIF:colorI         -0.9745289  0.0494177 -19.720  < 2e-16 ***\n",
       "claritySI1:colorI        -0.3123943  0.0396285  -7.883 3.28e-15 ***\n",
       "claritySI2:colorI        -0.0936376  0.0398264  -2.351 0.018721 *  \n",
       "clarityVS1:colorI        -0.4895908  0.0403662 -12.129  < 2e-16 ***\n",
       "clarityVS2:colorI        -0.4726872  0.0398699 -11.856  < 2e-16 ***\n",
       "clarityVVS1:colorI       -0.6382050  0.0427023 -14.945  < 2e-16 ***\n",
       "clarityVVS2:colorI       -0.5655086  0.0416331 -13.583  < 2e-16 ***\n",
       "clarityIF:colorJ         -1.2614829  0.0588303 -21.443  < 2e-16 ***\n",
       "claritySI1:colorJ        -0.4480959  0.0463189  -9.674  < 2e-16 ***\n",
       "claritySI2:colorJ        -0.1554849  0.0465587  -3.340 0.000840 ***\n",
       "clarityVS1:colorJ        -0.7117388  0.0471117 -15.107  < 2e-16 ***\n",
       "clarityVS2:colorJ        -0.6501036  0.0465007 -13.981  < 2e-16 ***\n",
       "clarityVVS1:colorJ       -0.8887241  0.0525539 -16.911  < 2e-16 ***\n",
       "clarityVVS2:colorJ       -0.8132007  0.0501195 -16.225  < 2e-16 ***\n",
       "---\n",
       "Signif. codes:  0 '***' 0.001 '**' 0.01 '*' 0.05 '.' 0.1 ' ' 1\n",
       "\n",
       "Residual standard error: 0.1674 on 37515 degrees of freedom\n",
       "Multiple R-squared:  0.9728,\tAdjusted R-squared:  0.9727 \n",
       "F-statistic: 1.04e+04 on 129 and 37515 DF,  p-value: < 2.2e-16\n"
      ]
     },
     "metadata": {},
     "output_type": "display_data"
    }
   ],
   "source": [
    "# We use the trainin dataset used in model1, in which we select the original\n",
    "# categorical features plus the interactions between features as the predictors.\n",
    "model3 <- lm(logprice~logcarat + cut + clarity + color + \n",
    "               logcarat*cut + logcarat*clarity + logcarat*color\n",
    "             + cut*clarity + cut*color + clarity*color, data=train.data1)\n",
    "summary(model3)"
   ]
  },
  {
   "cell_type": "markdown",
   "metadata": {},
   "source": [
    "### Model3 validation"
   ]
  },
  {
   "cell_type": "code",
   "execution_count": 83,
   "metadata": {},
   "outputs": [],
   "source": [
    "# Apply model to testing/validation dataset\n",
    "test.data1$pred3 <- model3 %>% predict(test.data1)"
   ]
  },
  {
   "cell_type": "code",
   "execution_count": 84,
   "metadata": {},
   "outputs": [
    {
     "name": "stdout",
     "output_type": "stream",
     "text": [
      "[1] \"Model3 RMSE: 0.17\"\n"
     ]
    }
   ],
   "source": [
    "# (a) Prediction error, RMSE\n",
    "print(paste0(\"Model3 RMSE: \", round(RMSE(test.data1$pred3, test.data1$logprice),4)))\n"
   ]
  },
  {
   "cell_type": "code",
   "execution_count": 85,
   "metadata": {},
   "outputs": [
    {
     "name": "stdout",
     "output_type": "stream",
     "text": [
      "[1] \"Model3 R Squre: 0.9719\"\n"
     ]
    }
   ],
   "source": [
    "# (b) Prediction R square\n",
    "print(paste0(\"Model3 R Squre: \", round(R2(test.data1$pred3, test.data1$logprice),4)))\n"
   ]
  },
  {
   "cell_type": "code",
   "execution_count": 86,
   "metadata": {},
   "outputs": [
    {
     "name": "stdout",
     "output_type": "stream",
     "text": [
      "[1] \": Total predicted dollars in new diamond dataset: 177.4\"\n"
     ]
    }
   ],
   "source": [
    "# (c) Average residuals between predicted and actual price\n",
    "test.data1$rs3 <- exp(test.data1$pred3)-1-test.data1$price\n",
    "print(paste0(\": Total predicted dollars in new diamond dataset: \", round(mean(test.data1$rs3),1)))\n"
   ]
  },
  {
   "cell_type": "markdown",
   "metadata": {},
   "source": [
    "### Model3 prediction in new diamond dataset"
   ]
  },
  {
   "cell_type": "code",
   "execution_count": 90,
   "metadata": {},
   "outputs": [
    {
     "data": {
      "text/html": [
       "<table>\n",
       "<caption>A data.frame: 6 × 12</caption>\n",
       "<thead>\n",
       "\t<tr><th scope=col>carat</th><th scope=col>cut</th><th scope=col>cut_ord</th><th scope=col>color</th><th scope=col>clarity</th><th scope=col>clarity_ord</th><th scope=col>logcarat</th><th scope=col>color_ord</th><th scope=col>newpred1</th><th scope=col>pred1price</th><th scope=col>newpred3</th><th scope=col>pred3price</th></tr>\n",
       "\t<tr><th scope=col>&lt;dbl&gt;</th><th scope=col>&lt;fct&gt;</th><th scope=col>&lt;int&gt;</th><th scope=col>&lt;fct&gt;</th><th scope=col>&lt;fct&gt;</th><th scope=col>&lt;int&gt;</th><th scope=col>&lt;dbl&gt;</th><th scope=col>&lt;dbl&gt;</th><th scope=col>&lt;dbl&gt;</th><th scope=col>&lt;dbl&gt;</th><th scope=col>&lt;dbl&gt;</th><th scope=col>&lt;dbl&gt;</th></tr>\n",
       "</thead>\n",
       "<tbody>\n",
       "\t<tr><td>1.22</td><td>Premium  </td><td>4</td><td>G</td><td>SI1 </td><td>3</td><td>0.7975072</td><td>4</td><td>8.708992</td><td>6056.1341</td><td>8.735128</td><td>6216.5278</td></tr>\n",
       "\t<tr><td>1.01</td><td>Good     </td><td>2</td><td>G</td><td>VS2 </td><td>5</td><td>0.6981347</td><td>4</td><td>8.438363</td><td>4619.9860</td><td>8.512394</td><td>4975.0595</td></tr>\n",
       "\t<tr><td>0.71</td><td>Very Good</td><td>3</td><td>I</td><td>VS2 </td><td>5</td><td>0.5364934</td><td>2</td><td>7.572909</td><td>1943.7900</td><td>7.509423</td><td>1824.1594</td></tr>\n",
       "\t<tr><td>1.01</td><td>Ideal    </td><td>5</td><td>D</td><td>SI2 </td><td>2</td><td>0.6981347</td><td>7</td><td>8.450530</td><td>4676.5531</td><td>8.335491</td><td>4168.2497</td></tr>\n",
       "\t<tr><td>0.27</td><td>Ideal    </td><td>5</td><td>H</td><td>VVS2</td><td>6</td><td>0.2390169</td><td>3</td><td>6.508661</td><td> 669.9277</td><td>6.388785</td><td> 594.1333</td></tr>\n",
       "\t<tr><td>0.52</td><td>Premium  </td><td>4</td><td>G</td><td>VS1 </td><td>4</td><td>0.4187103</td><td>4</td><td>7.144623</td><td>1266.2741</td><td>7.303173</td><td>1484.0047</td></tr>\n",
       "</tbody>\n",
       "</table>\n"
      ],
      "text/latex": [
       "A data.frame: 6 × 12\n",
       "\\begin{tabular}{r|llllllllllll}\n",
       " carat & cut & cut\\_ord & color & clarity & clarity\\_ord & logcarat & color\\_ord & newpred1 & pred1price & newpred3 & pred3price\\\\\n",
       " <dbl> & <fct> & <int> & <fct> & <fct> & <int> & <dbl> & <dbl> & <dbl> & <dbl> & <dbl> & <dbl>\\\\\n",
       "\\hline\n",
       "\t 1.22 & Premium   & 4 & G & SI1  & 3 & 0.7975072 & 4 & 8.708992 & 6056.1341 & 8.735128 & 6216.5278\\\\\n",
       "\t 1.01 & Good      & 2 & G & VS2  & 5 & 0.6981347 & 4 & 8.438363 & 4619.9860 & 8.512394 & 4975.0595\\\\\n",
       "\t 0.71 & Very Good & 3 & I & VS2  & 5 & 0.5364934 & 2 & 7.572909 & 1943.7900 & 7.509423 & 1824.1594\\\\\n",
       "\t 1.01 & Ideal     & 5 & D & SI2  & 2 & 0.6981347 & 7 & 8.450530 & 4676.5531 & 8.335491 & 4168.2497\\\\\n",
       "\t 0.27 & Ideal     & 5 & H & VVS2 & 6 & 0.2390169 & 3 & 6.508661 &  669.9277 & 6.388785 &  594.1333\\\\\n",
       "\t 0.52 & Premium   & 4 & G & VS1  & 4 & 0.4187103 & 4 & 7.144623 & 1266.2741 & 7.303173 & 1484.0047\\\\\n",
       "\\end{tabular}\n"
      ],
      "text/markdown": [
       "\n",
       "A data.frame: 6 × 12\n",
       "\n",
       "| carat &lt;dbl&gt; | cut &lt;fct&gt; | cut_ord &lt;int&gt; | color &lt;fct&gt; | clarity &lt;fct&gt; | clarity_ord &lt;int&gt; | logcarat &lt;dbl&gt; | color_ord &lt;dbl&gt; | newpred1 &lt;dbl&gt; | pred1price &lt;dbl&gt; | newpred3 &lt;dbl&gt; | pred3price &lt;dbl&gt; |\n",
       "|---|---|---|---|---|---|---|---|---|---|---|---|\n",
       "| 1.22 | Premium   | 4 | G | SI1  | 3 | 0.7975072 | 4 | 8.708992 | 6056.1341 | 8.735128 | 6216.5278 |\n",
       "| 1.01 | Good      | 2 | G | VS2  | 5 | 0.6981347 | 4 | 8.438363 | 4619.9860 | 8.512394 | 4975.0595 |\n",
       "| 0.71 | Very Good | 3 | I | VS2  | 5 | 0.5364934 | 2 | 7.572909 | 1943.7900 | 7.509423 | 1824.1594 |\n",
       "| 1.01 | Ideal     | 5 | D | SI2  | 2 | 0.6981347 | 7 | 8.450530 | 4676.5531 | 8.335491 | 4168.2497 |\n",
       "| 0.27 | Ideal     | 5 | H | VVS2 | 6 | 0.2390169 | 3 | 6.508661 |  669.9277 | 6.388785 |  594.1333 |\n",
       "| 0.52 | Premium   | 4 | G | VS1  | 4 | 0.4187103 | 4 | 7.144623 | 1266.2741 | 7.303173 | 1484.0047 |\n",
       "\n"
      ],
      "text/plain": [
       "  carat cut       cut_ord color clarity clarity_ord logcarat  color_ord\n",
       "1 1.22  Premium   4       G     SI1     3           0.7975072 4        \n",
       "2 1.01  Good      2       G     VS2     5           0.6981347 4        \n",
       "3 0.71  Very Good 3       I     VS2     5           0.5364934 2        \n",
       "4 1.01  Ideal     5       D     SI2     2           0.6981347 7        \n",
       "5 0.27  Ideal     5       H     VVS2    6           0.2390169 3        \n",
       "6 0.52  Premium   4       G     VS1     4           0.4187103 4        \n",
       "  newpred1 pred1price newpred3 pred3price\n",
       "1 8.708992 6056.1341  8.735128 6216.5278 \n",
       "2 8.438363 4619.9860  8.512394 4975.0595 \n",
       "3 7.572909 1943.7900  7.509423 1824.1594 \n",
       "4 8.450530 4676.5531  8.335491 4168.2497 \n",
       "5 6.508661  669.9277  6.388785  594.1333 \n",
       "6 7.144623 1266.2741  7.303173 1484.0047 "
      ]
     },
     "metadata": {},
     "output_type": "display_data"
    },
    {
     "name": "stdout",
     "output_type": "stream",
     "text": [
      "[1] \"Total predicted dollars in new diamond dataset: 12299203\"\n"
     ]
    }
   ],
   "source": [
    "new2$newpred3 <- model3 %>% predict(new2)\n",
    "new2$pred3price <- exp(new2$newpred3)-1\n",
    "head(new2)\n",
    "print(paste0(\"Total predicted dollars in new diamond dataset: \", round(sum(new2$pred3price),0)))"
   ]
  },
  {
   "cell_type": "markdown",
   "metadata": {},
   "source": [
    "## Summarize models"
   ]
  },
  {
   "cell_type": "code",
   "execution_count": 87,
   "metadata": {},
   "outputs": [
    {
     "name": "stderr",
     "output_type": "stream",
     "text": [
      "Warning message:\n",
      "\"Removed 264 rows containing non-finite values (stat_smooth).\"Warning message:\n",
      "\"Removed 264 rows containing missing values (geom_point).\"Warning message:\n",
      "\"Removed 1 rows containing missing values (geom_smooth).\"Warning message:\n",
      "\"Removed 255 rows containing non-finite values (stat_smooth).\"Warning message:\n",
      "\"Removed 255 rows containing missing values (geom_point).\"Warning message:\n",
      "\"Removed 1 rows containing missing values (geom_smooth).\"Warning message:\n",
      "\"Removed 195 rows containing non-finite values (stat_smooth).\"Warning message:\n",
      "\"Removed 195 rows containing missing values (geom_point).\"Warning message:\n",
      "\"Removed 1 rows containing missing values (geom_smooth).\"`stat_bin()` using `bins = 30`. Pick better value with `binwidth`.\n",
      "`stat_bin()` using `bins = 30`. Pick better value with `binwidth`.\n",
      "`stat_bin()` using `bins = 30`. Pick better value with `binwidth`.\n"
     ]
    },
    {
     "data": {
      "image/png": "[encoded data removed]",
      "text/plain": [
       "plot without title"
      ]
     },
     "metadata": {},
     "output_type": "display_data"
    }
   ],
   "source": [
    "# Convert price from the log format\n",
    "test.data1$pred1price <- exp(test.data1$pred1)-1\n",
    "\n",
    "# Visualize the performance of model 1 - scatter\n",
    "mod1_hist <- ggplot(aes(x=price, y=pred1price), data=test.data1) +\n",
    "  geom_point(fill=I(\"#2039f7\"), color=I(\"black\"), shape=21) +\n",
    "  stat_smooth(method=\"lm\", col=\"red\") +\n",
    "  scale_x_continuous(lim = c(0, quantile(test.data1$price, 0.99)) ) +\n",
    "  scale_y_continuous(lim = c(0, quantile(test.data1$pred1price, 0.99)) ) +\n",
    "  ggtitle(\"Model1 predicted vs. actual price\") +\n",
    "  theme(plot.title = element_text(hjust = 0.5))\n",
    "\n",
    "# Residuals\n",
    "mod1_res <- ggplot(aes(rs1), data=test.data1) +\n",
    "  geom_histogram(aes(y=..density..),\n",
    "                 color=\"green\",\n",
    "                 fill=\"darkgreen\") +\n",
    "  ggtitle('Model1 Residual')+\n",
    "  stat_function(fun = dnorm, \n",
    "                args = list(mean = mean(test.data1$rs1), \n",
    "                            sd = sd(test.data1$rs1)),\n",
    "                color=\"darkred\", size=1)+\n",
    "  theme(plot.title = element_text(hjust = 0.5))\n",
    "\n",
    "# Convert price from the log format\n",
    "test.data2$pred2price <- exp(test.data2$pred2)-1\n",
    "\n",
    "# Visualize the performance of model 2\n",
    "mod2_hist <- ggplot(aes(x=price, y=pred2price), data=test.data2) +\n",
    "  geom_point(fill=I(\"#2039f7\"), color=I(\"black\"), shape=21) +\n",
    "  stat_smooth(method=\"lm\", col=\"red\") +\n",
    "  scale_x_continuous(lim = c(0, quantile(test.data2$price, 0.99)) ) +\n",
    "  scale_y_continuous(lim = c(0, quantile(test.data2$pred2price, 0.99)) ) +\n",
    "  ggtitle(\"Model2 Predicted vs. actual price\") +\n",
    "  theme(plot.title = element_text(hjust = 0.5))\n",
    "\n",
    "# Residual\n",
    "mod2_res <- ggplot(aes(rs2), data=test.data2) +\n",
    "  geom_histogram(aes(y=..density..),\n",
    "                 color=\"green\",\n",
    "                 fill=\"darkgreen\") +\n",
    "  ggtitle('Model2 Residual')+\n",
    "  stat_function(fun = dnorm, \n",
    "                args = list(mean = mean(test.data2$rs2), \n",
    "                            sd = sd(test.data2$rs2)),\n",
    "                color=\"darkred\", size=1)+\n",
    "  theme(plot.title = element_text(hjust = 0.5))\n",
    "\n",
    "# Convert price from the log format \n",
    "test.data1$pred3price <- exp(test.data1$pred3)-1\n",
    "\n",
    "# Visualize the performance of model 1\n",
    "mod3_hist <- ggplot(aes(x=price, y=pred3price), data=test.data1) +\n",
    "  geom_point(fill=I(\"#2039f7\"), color=I(\"black\"), shape=21) +\n",
    "  stat_smooth(method=\"lm\", col=\"red\") +\n",
    "  scale_x_continuous(lim = c(0, quantile(test.data1$price, 0.99)) ) +\n",
    "  scale_y_continuous(lim = c(0, quantile(test.data1$pred1price, 0.99)) ) +\n",
    "  ggtitle(\"Model3 Predicted vs. actual price\") +\n",
    "  theme(plot.title = element_text(hjust = 0.5))\n",
    "\n",
    "# Residual\n",
    "mod3_res <- ggplot(aes(rs3), data=test.data1) +\n",
    "  geom_histogram(aes(y=..density..),\n",
    "                 color=\"green\",\n",
    "                 fill=\"darkgreen\") +\n",
    "  ggtitle('Model3 Residual')+\n",
    "  stat_function(fun = dnorm, \n",
    "                args = list(mean = mean(test.data1$rs3), \n",
    "                            sd = sd(test.data1$rs3)),\n",
    "                color=\"darkred\", size=1)+\n",
    "  theme(plot.title = element_text(hjust = 0.5))\n",
    "\n",
    "# plot the performance of all models in one page\n",
    "grid.arrange(arrangeGrob(mod1_hist, mod2_hist, mod3_hist, \n",
    "                         ncol=1, nrow=3),\n",
    "             arrangeGrob(mod1_res, mod2_res, mod3_res, \n",
    "                         ncol=1, nrow=3), ncol=2)"
   ]
  },
  {
   "cell_type": "markdown",
   "metadata": {},
   "source": [
    "# Conclusions"
   ]
  },
  {
   "cell_type": "code",
   "execution_count": 91,
   "metadata": {},
   "outputs": [],
   "source": [
    "# Model3 with interactions between categorical features performed the best with achieved \n",
    "# R Square at 0.9719 and average residual of price prediction at $177.4 in the validation\n",
    "# dataset and the total predicted dollars in 3,000 dimonds are $12.3 million. The suggested\n",
    "# investment for the diamond will be $8.6 million if the discount is 70%."
   ]
  }
 ],
 "metadata": {
  "kernelspec": {
   "display_name": "R",
   "language": "R",
   "name": "ir"
  },
  "language_info": {
   "codemirror_mode": "r",
   "file_extension": ".r",
   "mimetype": "text/x-r-source",
   "name": "R",
   "pygments_lexer": "r",
   "version": "3.6.1"
  }
 },
 "nbformat": 4,
 "nbformat_minor": 2
}
